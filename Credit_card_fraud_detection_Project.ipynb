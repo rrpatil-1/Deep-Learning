{
 "cells": [
  {
   "cell_type": "markdown",
   "metadata": {},
   "source": [
    "# ML:Credit Card Fraud detection\n"
   ]
  },
  {
   "cell_type": "code",
   "execution_count": 2,
   "metadata": {},
   "outputs": [],
   "source": [
    "#import basic libaries\n",
    "import numpy as np\n",
    "import pandas as pd\n",
    "import matplotlib.pyplot as plt\n",
    "import seaborn as sns\n",
    "import warnings\n",
    "warnings.filterwarnings('ignore')\n",
    "\n"
   ]
  },
  {
   "cell_type": "code",
   "execution_count": 3,
   "metadata": {},
   "outputs": [
    {
     "data": {
      "text/html": [
       "<div>\n",
       "<style scoped>\n",
       "    .dataframe tbody tr th:only-of-type {\n",
       "        vertical-align: middle;\n",
       "    }\n",
       "\n",
       "    .dataframe tbody tr th {\n",
       "        vertical-align: top;\n",
       "    }\n",
       "\n",
       "    .dataframe thead th {\n",
       "        text-align: right;\n",
       "    }\n",
       "</style>\n",
       "<table border=\"1\" class=\"dataframe\">\n",
       "  <thead>\n",
       "    <tr style=\"text-align: right;\">\n",
       "      <th></th>\n",
       "      <th>Time</th>\n",
       "      <th>V1</th>\n",
       "      <th>V2</th>\n",
       "      <th>V3</th>\n",
       "      <th>V4</th>\n",
       "      <th>V5</th>\n",
       "      <th>V6</th>\n",
       "      <th>V7</th>\n",
       "      <th>V8</th>\n",
       "      <th>V9</th>\n",
       "      <th>V10</th>\n",
       "      <th>V11</th>\n",
       "      <th>V12</th>\n",
       "      <th>V13</th>\n",
       "      <th>V14</th>\n",
       "      <th>V15</th>\n",
       "      <th>V16</th>\n",
       "      <th>V17</th>\n",
       "      <th>V18</th>\n",
       "      <th>V19</th>\n",
       "      <th>V20</th>\n",
       "      <th>V21</th>\n",
       "      <th>V22</th>\n",
       "      <th>V23</th>\n",
       "      <th>V24</th>\n",
       "      <th>V25</th>\n",
       "      <th>V26</th>\n",
       "      <th>V27</th>\n",
       "      <th>V28</th>\n",
       "      <th>Amount</th>\n",
       "      <th>Class</th>\n",
       "    </tr>\n",
       "  </thead>\n",
       "  <tbody>\n",
       "    <tr>\n",
       "      <td>0</td>\n",
       "      <td>0.0</td>\n",
       "      <td>-1.359807</td>\n",
       "      <td>-0.072781</td>\n",
       "      <td>2.536347</td>\n",
       "      <td>1.378155</td>\n",
       "      <td>-0.338321</td>\n",
       "      <td>0.462388</td>\n",
       "      <td>0.239599</td>\n",
       "      <td>0.098698</td>\n",
       "      <td>0.363787</td>\n",
       "      <td>0.090794</td>\n",
       "      <td>-0.551600</td>\n",
       "      <td>-0.617801</td>\n",
       "      <td>-0.991390</td>\n",
       "      <td>-0.311169</td>\n",
       "      <td>1.468177</td>\n",
       "      <td>-0.470401</td>\n",
       "      <td>0.207971</td>\n",
       "      <td>0.025791</td>\n",
       "      <td>0.403993</td>\n",
       "      <td>0.251412</td>\n",
       "      <td>-0.018307</td>\n",
       "      <td>0.277838</td>\n",
       "      <td>-0.110474</td>\n",
       "      <td>0.066928</td>\n",
       "      <td>0.128539</td>\n",
       "      <td>-0.189115</td>\n",
       "      <td>0.133558</td>\n",
       "      <td>-0.021053</td>\n",
       "      <td>149.62</td>\n",
       "      <td>0</td>\n",
       "    </tr>\n",
       "    <tr>\n",
       "      <td>1</td>\n",
       "      <td>0.0</td>\n",
       "      <td>1.191857</td>\n",
       "      <td>0.266151</td>\n",
       "      <td>0.166480</td>\n",
       "      <td>0.448154</td>\n",
       "      <td>0.060018</td>\n",
       "      <td>-0.082361</td>\n",
       "      <td>-0.078803</td>\n",
       "      <td>0.085102</td>\n",
       "      <td>-0.255425</td>\n",
       "      <td>-0.166974</td>\n",
       "      <td>1.612727</td>\n",
       "      <td>1.065235</td>\n",
       "      <td>0.489095</td>\n",
       "      <td>-0.143772</td>\n",
       "      <td>0.635558</td>\n",
       "      <td>0.463917</td>\n",
       "      <td>-0.114805</td>\n",
       "      <td>-0.183361</td>\n",
       "      <td>-0.145783</td>\n",
       "      <td>-0.069083</td>\n",
       "      <td>-0.225775</td>\n",
       "      <td>-0.638672</td>\n",
       "      <td>0.101288</td>\n",
       "      <td>-0.339846</td>\n",
       "      <td>0.167170</td>\n",
       "      <td>0.125895</td>\n",
       "      <td>-0.008983</td>\n",
       "      <td>0.014724</td>\n",
       "      <td>2.69</td>\n",
       "      <td>0</td>\n",
       "    </tr>\n",
       "    <tr>\n",
       "      <td>2</td>\n",
       "      <td>1.0</td>\n",
       "      <td>-1.358354</td>\n",
       "      <td>-1.340163</td>\n",
       "      <td>1.773209</td>\n",
       "      <td>0.379780</td>\n",
       "      <td>-0.503198</td>\n",
       "      <td>1.800499</td>\n",
       "      <td>0.791461</td>\n",
       "      <td>0.247676</td>\n",
       "      <td>-1.514654</td>\n",
       "      <td>0.207643</td>\n",
       "      <td>0.624501</td>\n",
       "      <td>0.066084</td>\n",
       "      <td>0.717293</td>\n",
       "      <td>-0.165946</td>\n",
       "      <td>2.345865</td>\n",
       "      <td>-2.890083</td>\n",
       "      <td>1.109969</td>\n",
       "      <td>-0.121359</td>\n",
       "      <td>-2.261857</td>\n",
       "      <td>0.524980</td>\n",
       "      <td>0.247998</td>\n",
       "      <td>0.771679</td>\n",
       "      <td>0.909412</td>\n",
       "      <td>-0.689281</td>\n",
       "      <td>-0.327642</td>\n",
       "      <td>-0.139097</td>\n",
       "      <td>-0.055353</td>\n",
       "      <td>-0.059752</td>\n",
       "      <td>378.66</td>\n",
       "      <td>0</td>\n",
       "    </tr>\n",
       "    <tr>\n",
       "      <td>3</td>\n",
       "      <td>1.0</td>\n",
       "      <td>-0.966272</td>\n",
       "      <td>-0.185226</td>\n",
       "      <td>1.792993</td>\n",
       "      <td>-0.863291</td>\n",
       "      <td>-0.010309</td>\n",
       "      <td>1.247203</td>\n",
       "      <td>0.237609</td>\n",
       "      <td>0.377436</td>\n",
       "      <td>-1.387024</td>\n",
       "      <td>-0.054952</td>\n",
       "      <td>-0.226487</td>\n",
       "      <td>0.178228</td>\n",
       "      <td>0.507757</td>\n",
       "      <td>-0.287924</td>\n",
       "      <td>-0.631418</td>\n",
       "      <td>-1.059647</td>\n",
       "      <td>-0.684093</td>\n",
       "      <td>1.965775</td>\n",
       "      <td>-1.232622</td>\n",
       "      <td>-0.208038</td>\n",
       "      <td>-0.108300</td>\n",
       "      <td>0.005274</td>\n",
       "      <td>-0.190321</td>\n",
       "      <td>-1.175575</td>\n",
       "      <td>0.647376</td>\n",
       "      <td>-0.221929</td>\n",
       "      <td>0.062723</td>\n",
       "      <td>0.061458</td>\n",
       "      <td>123.50</td>\n",
       "      <td>0</td>\n",
       "    </tr>\n",
       "    <tr>\n",
       "      <td>4</td>\n",
       "      <td>2.0</td>\n",
       "      <td>-1.158233</td>\n",
       "      <td>0.877737</td>\n",
       "      <td>1.548718</td>\n",
       "      <td>0.403034</td>\n",
       "      <td>-0.407193</td>\n",
       "      <td>0.095921</td>\n",
       "      <td>0.592941</td>\n",
       "      <td>-0.270533</td>\n",
       "      <td>0.817739</td>\n",
       "      <td>0.753074</td>\n",
       "      <td>-0.822843</td>\n",
       "      <td>0.538196</td>\n",
       "      <td>1.345852</td>\n",
       "      <td>-1.119670</td>\n",
       "      <td>0.175121</td>\n",
       "      <td>-0.451449</td>\n",
       "      <td>-0.237033</td>\n",
       "      <td>-0.038195</td>\n",
       "      <td>0.803487</td>\n",
       "      <td>0.408542</td>\n",
       "      <td>-0.009431</td>\n",
       "      <td>0.798278</td>\n",
       "      <td>-0.137458</td>\n",
       "      <td>0.141267</td>\n",
       "      <td>-0.206010</td>\n",
       "      <td>0.502292</td>\n",
       "      <td>0.219422</td>\n",
       "      <td>0.215153</td>\n",
       "      <td>69.99</td>\n",
       "      <td>0</td>\n",
       "    </tr>\n",
       "  </tbody>\n",
       "</table>\n",
       "</div>"
      ],
      "text/plain": [
       "   Time        V1        V2        V3        V4        V5        V6        V7  \\\n",
       "0   0.0 -1.359807 -0.072781  2.536347  1.378155 -0.338321  0.462388  0.239599   \n",
       "1   0.0  1.191857  0.266151  0.166480  0.448154  0.060018 -0.082361 -0.078803   \n",
       "2   1.0 -1.358354 -1.340163  1.773209  0.379780 -0.503198  1.800499  0.791461   \n",
       "3   1.0 -0.966272 -0.185226  1.792993 -0.863291 -0.010309  1.247203  0.237609   \n",
       "4   2.0 -1.158233  0.877737  1.548718  0.403034 -0.407193  0.095921  0.592941   \n",
       "\n",
       "         V8        V9       V10       V11       V12       V13       V14  \\\n",
       "0  0.098698  0.363787  0.090794 -0.551600 -0.617801 -0.991390 -0.311169   \n",
       "1  0.085102 -0.255425 -0.166974  1.612727  1.065235  0.489095 -0.143772   \n",
       "2  0.247676 -1.514654  0.207643  0.624501  0.066084  0.717293 -0.165946   \n",
       "3  0.377436 -1.387024 -0.054952 -0.226487  0.178228  0.507757 -0.287924   \n",
       "4 -0.270533  0.817739  0.753074 -0.822843  0.538196  1.345852 -1.119670   \n",
       "\n",
       "        V15       V16       V17       V18       V19       V20       V21  \\\n",
       "0  1.468177 -0.470401  0.207971  0.025791  0.403993  0.251412 -0.018307   \n",
       "1  0.635558  0.463917 -0.114805 -0.183361 -0.145783 -0.069083 -0.225775   \n",
       "2  2.345865 -2.890083  1.109969 -0.121359 -2.261857  0.524980  0.247998   \n",
       "3 -0.631418 -1.059647 -0.684093  1.965775 -1.232622 -0.208038 -0.108300   \n",
       "4  0.175121 -0.451449 -0.237033 -0.038195  0.803487  0.408542 -0.009431   \n",
       "\n",
       "        V22       V23       V24       V25       V26       V27       V28  \\\n",
       "0  0.277838 -0.110474  0.066928  0.128539 -0.189115  0.133558 -0.021053   \n",
       "1 -0.638672  0.101288 -0.339846  0.167170  0.125895 -0.008983  0.014724   \n",
       "2  0.771679  0.909412 -0.689281 -0.327642 -0.139097 -0.055353 -0.059752   \n",
       "3  0.005274 -0.190321 -1.175575  0.647376 -0.221929  0.062723  0.061458   \n",
       "4  0.798278 -0.137458  0.141267 -0.206010  0.502292  0.219422  0.215153   \n",
       "\n",
       "   Amount  Class  \n",
       "0  149.62      0  \n",
       "1    2.69      0  \n",
       "2  378.66      0  \n",
       "3  123.50      0  \n",
       "4   69.99      0  "
      ]
     },
     "execution_count": 3,
     "metadata": {},
     "output_type": "execute_result"
    }
   ],
   "source": [
    "#load dataset creditcard.csv\n",
    "df=pd.read_csv(\"creditcard.csv\") \n",
    "#view first 5column\n",
    "pd.set_option(\"display.max_columns\",None) #to display all column\n",
    "df.head()"
   ]
  },
  {
   "cell_type": "code",
   "execution_count": 4,
   "metadata": {},
   "outputs": [
    {
     "data": {
      "text/plain": [
       "(284807, 31)"
      ]
     },
     "execution_count": 4,
     "metadata": {},
     "output_type": "execute_result"
    }
   ],
   "source": [
    "df.shape"
   ]
  },
  {
   "cell_type": "code",
   "execution_count": 5,
   "metadata": {},
   "outputs": [],
   "source": [
    "#there are 31 columns and 284807 records\n"
   ]
  },
  {
   "cell_type": "code",
   "execution_count": 6,
   "metadata": {},
   "outputs": [
    {
     "data": {
      "text/html": [
       "<div>\n",
       "<style scoped>\n",
       "    .dataframe tbody tr th:only-of-type {\n",
       "        vertical-align: middle;\n",
       "    }\n",
       "\n",
       "    .dataframe tbody tr th {\n",
       "        vertical-align: top;\n",
       "    }\n",
       "\n",
       "    .dataframe thead th {\n",
       "        text-align: right;\n",
       "    }\n",
       "</style>\n",
       "<table border=\"1\" class=\"dataframe\">\n",
       "  <thead>\n",
       "    <tr style=\"text-align: right;\">\n",
       "      <th></th>\n",
       "      <th>Time</th>\n",
       "      <th>V1</th>\n",
       "      <th>V2</th>\n",
       "      <th>V3</th>\n",
       "      <th>V4</th>\n",
       "      <th>V5</th>\n",
       "      <th>V6</th>\n",
       "      <th>V7</th>\n",
       "      <th>V8</th>\n",
       "      <th>V9</th>\n",
       "      <th>V10</th>\n",
       "      <th>V11</th>\n",
       "      <th>V12</th>\n",
       "      <th>V13</th>\n",
       "      <th>V14</th>\n",
       "      <th>V15</th>\n",
       "      <th>V16</th>\n",
       "      <th>V17</th>\n",
       "      <th>V18</th>\n",
       "      <th>V19</th>\n",
       "      <th>V20</th>\n",
       "      <th>V21</th>\n",
       "      <th>V22</th>\n",
       "      <th>V23</th>\n",
       "      <th>V24</th>\n",
       "      <th>V25</th>\n",
       "      <th>V26</th>\n",
       "      <th>V27</th>\n",
       "      <th>V28</th>\n",
       "      <th>Amount</th>\n",
       "      <th>Class</th>\n",
       "    </tr>\n",
       "  </thead>\n",
       "  <tbody>\n",
       "    <tr>\n",
       "      <td>count</td>\n",
       "      <td>284807.000000</td>\n",
       "      <td>2.848070e+05</td>\n",
       "      <td>2.848070e+05</td>\n",
       "      <td>2.848070e+05</td>\n",
       "      <td>2.848070e+05</td>\n",
       "      <td>2.848070e+05</td>\n",
       "      <td>2.848070e+05</td>\n",
       "      <td>2.848070e+05</td>\n",
       "      <td>2.848070e+05</td>\n",
       "      <td>2.848070e+05</td>\n",
       "      <td>2.848070e+05</td>\n",
       "      <td>2.848070e+05</td>\n",
       "      <td>2.848070e+05</td>\n",
       "      <td>2.848070e+05</td>\n",
       "      <td>2.848070e+05</td>\n",
       "      <td>2.848070e+05</td>\n",
       "      <td>2.848070e+05</td>\n",
       "      <td>2.848070e+05</td>\n",
       "      <td>2.848070e+05</td>\n",
       "      <td>2.848070e+05</td>\n",
       "      <td>2.848070e+05</td>\n",
       "      <td>2.848070e+05</td>\n",
       "      <td>2.848070e+05</td>\n",
       "      <td>2.848070e+05</td>\n",
       "      <td>2.848070e+05</td>\n",
       "      <td>2.848070e+05</td>\n",
       "      <td>2.848070e+05</td>\n",
       "      <td>2.848070e+05</td>\n",
       "      <td>2.848070e+05</td>\n",
       "      <td>284807.000000</td>\n",
       "      <td>284807.000000</td>\n",
       "    </tr>\n",
       "    <tr>\n",
       "      <td>mean</td>\n",
       "      <td>94813.859575</td>\n",
       "      <td>3.919560e-15</td>\n",
       "      <td>5.688174e-16</td>\n",
       "      <td>-8.769071e-15</td>\n",
       "      <td>2.782312e-15</td>\n",
       "      <td>-1.552563e-15</td>\n",
       "      <td>2.010663e-15</td>\n",
       "      <td>-1.694249e-15</td>\n",
       "      <td>-1.927028e-16</td>\n",
       "      <td>-3.137024e-15</td>\n",
       "      <td>1.768627e-15</td>\n",
       "      <td>9.170318e-16</td>\n",
       "      <td>-1.810658e-15</td>\n",
       "      <td>1.693438e-15</td>\n",
       "      <td>1.479045e-15</td>\n",
       "      <td>3.482336e-15</td>\n",
       "      <td>1.392007e-15</td>\n",
       "      <td>-7.528491e-16</td>\n",
       "      <td>4.328772e-16</td>\n",
       "      <td>9.049732e-16</td>\n",
       "      <td>5.085503e-16</td>\n",
       "      <td>1.537294e-16</td>\n",
       "      <td>7.959909e-16</td>\n",
       "      <td>5.367590e-16</td>\n",
       "      <td>4.458112e-15</td>\n",
       "      <td>1.453003e-15</td>\n",
       "      <td>1.699104e-15</td>\n",
       "      <td>-3.660161e-16</td>\n",
       "      <td>-1.206049e-16</td>\n",
       "      <td>88.349619</td>\n",
       "      <td>0.001727</td>\n",
       "    </tr>\n",
       "    <tr>\n",
       "      <td>std</td>\n",
       "      <td>47488.145955</td>\n",
       "      <td>1.958696e+00</td>\n",
       "      <td>1.651309e+00</td>\n",
       "      <td>1.516255e+00</td>\n",
       "      <td>1.415869e+00</td>\n",
       "      <td>1.380247e+00</td>\n",
       "      <td>1.332271e+00</td>\n",
       "      <td>1.237094e+00</td>\n",
       "      <td>1.194353e+00</td>\n",
       "      <td>1.098632e+00</td>\n",
       "      <td>1.088850e+00</td>\n",
       "      <td>1.020713e+00</td>\n",
       "      <td>9.992014e-01</td>\n",
       "      <td>9.952742e-01</td>\n",
       "      <td>9.585956e-01</td>\n",
       "      <td>9.153160e-01</td>\n",
       "      <td>8.762529e-01</td>\n",
       "      <td>8.493371e-01</td>\n",
       "      <td>8.381762e-01</td>\n",
       "      <td>8.140405e-01</td>\n",
       "      <td>7.709250e-01</td>\n",
       "      <td>7.345240e-01</td>\n",
       "      <td>7.257016e-01</td>\n",
       "      <td>6.244603e-01</td>\n",
       "      <td>6.056471e-01</td>\n",
       "      <td>5.212781e-01</td>\n",
       "      <td>4.822270e-01</td>\n",
       "      <td>4.036325e-01</td>\n",
       "      <td>3.300833e-01</td>\n",
       "      <td>250.120109</td>\n",
       "      <td>0.041527</td>\n",
       "    </tr>\n",
       "    <tr>\n",
       "      <td>min</td>\n",
       "      <td>0.000000</td>\n",
       "      <td>-5.640751e+01</td>\n",
       "      <td>-7.271573e+01</td>\n",
       "      <td>-4.832559e+01</td>\n",
       "      <td>-5.683171e+00</td>\n",
       "      <td>-1.137433e+02</td>\n",
       "      <td>-2.616051e+01</td>\n",
       "      <td>-4.355724e+01</td>\n",
       "      <td>-7.321672e+01</td>\n",
       "      <td>-1.343407e+01</td>\n",
       "      <td>-2.458826e+01</td>\n",
       "      <td>-4.797473e+00</td>\n",
       "      <td>-1.868371e+01</td>\n",
       "      <td>-5.791881e+00</td>\n",
       "      <td>-1.921433e+01</td>\n",
       "      <td>-4.498945e+00</td>\n",
       "      <td>-1.412985e+01</td>\n",
       "      <td>-2.516280e+01</td>\n",
       "      <td>-9.498746e+00</td>\n",
       "      <td>-7.213527e+00</td>\n",
       "      <td>-5.449772e+01</td>\n",
       "      <td>-3.483038e+01</td>\n",
       "      <td>-1.093314e+01</td>\n",
       "      <td>-4.480774e+01</td>\n",
       "      <td>-2.836627e+00</td>\n",
       "      <td>-1.029540e+01</td>\n",
       "      <td>-2.604551e+00</td>\n",
       "      <td>-2.256568e+01</td>\n",
       "      <td>-1.543008e+01</td>\n",
       "      <td>0.000000</td>\n",
       "      <td>0.000000</td>\n",
       "    </tr>\n",
       "    <tr>\n",
       "      <td>25%</td>\n",
       "      <td>54201.500000</td>\n",
       "      <td>-9.203734e-01</td>\n",
       "      <td>-5.985499e-01</td>\n",
       "      <td>-8.903648e-01</td>\n",
       "      <td>-8.486401e-01</td>\n",
       "      <td>-6.915971e-01</td>\n",
       "      <td>-7.682956e-01</td>\n",
       "      <td>-5.540759e-01</td>\n",
       "      <td>-2.086297e-01</td>\n",
       "      <td>-6.430976e-01</td>\n",
       "      <td>-5.354257e-01</td>\n",
       "      <td>-7.624942e-01</td>\n",
       "      <td>-4.055715e-01</td>\n",
       "      <td>-6.485393e-01</td>\n",
       "      <td>-4.255740e-01</td>\n",
       "      <td>-5.828843e-01</td>\n",
       "      <td>-4.680368e-01</td>\n",
       "      <td>-4.837483e-01</td>\n",
       "      <td>-4.988498e-01</td>\n",
       "      <td>-4.562989e-01</td>\n",
       "      <td>-2.117214e-01</td>\n",
       "      <td>-2.283949e-01</td>\n",
       "      <td>-5.423504e-01</td>\n",
       "      <td>-1.618463e-01</td>\n",
       "      <td>-3.545861e-01</td>\n",
       "      <td>-3.171451e-01</td>\n",
       "      <td>-3.269839e-01</td>\n",
       "      <td>-7.083953e-02</td>\n",
       "      <td>-5.295979e-02</td>\n",
       "      <td>5.600000</td>\n",
       "      <td>0.000000</td>\n",
       "    </tr>\n",
       "    <tr>\n",
       "      <td>50%</td>\n",
       "      <td>84692.000000</td>\n",
       "      <td>1.810880e-02</td>\n",
       "      <td>6.548556e-02</td>\n",
       "      <td>1.798463e-01</td>\n",
       "      <td>-1.984653e-02</td>\n",
       "      <td>-5.433583e-02</td>\n",
       "      <td>-2.741871e-01</td>\n",
       "      <td>4.010308e-02</td>\n",
       "      <td>2.235804e-02</td>\n",
       "      <td>-5.142873e-02</td>\n",
       "      <td>-9.291738e-02</td>\n",
       "      <td>-3.275735e-02</td>\n",
       "      <td>1.400326e-01</td>\n",
       "      <td>-1.356806e-02</td>\n",
       "      <td>5.060132e-02</td>\n",
       "      <td>4.807155e-02</td>\n",
       "      <td>6.641332e-02</td>\n",
       "      <td>-6.567575e-02</td>\n",
       "      <td>-3.636312e-03</td>\n",
       "      <td>3.734823e-03</td>\n",
       "      <td>-6.248109e-02</td>\n",
       "      <td>-2.945017e-02</td>\n",
       "      <td>6.781943e-03</td>\n",
       "      <td>-1.119293e-02</td>\n",
       "      <td>4.097606e-02</td>\n",
       "      <td>1.659350e-02</td>\n",
       "      <td>-5.213911e-02</td>\n",
       "      <td>1.342146e-03</td>\n",
       "      <td>1.124383e-02</td>\n",
       "      <td>22.000000</td>\n",
       "      <td>0.000000</td>\n",
       "    </tr>\n",
       "    <tr>\n",
       "      <td>75%</td>\n",
       "      <td>139320.500000</td>\n",
       "      <td>1.315642e+00</td>\n",
       "      <td>8.037239e-01</td>\n",
       "      <td>1.027196e+00</td>\n",
       "      <td>7.433413e-01</td>\n",
       "      <td>6.119264e-01</td>\n",
       "      <td>3.985649e-01</td>\n",
       "      <td>5.704361e-01</td>\n",
       "      <td>3.273459e-01</td>\n",
       "      <td>5.971390e-01</td>\n",
       "      <td>4.539234e-01</td>\n",
       "      <td>7.395934e-01</td>\n",
       "      <td>6.182380e-01</td>\n",
       "      <td>6.625050e-01</td>\n",
       "      <td>4.931498e-01</td>\n",
       "      <td>6.488208e-01</td>\n",
       "      <td>5.232963e-01</td>\n",
       "      <td>3.996750e-01</td>\n",
       "      <td>5.008067e-01</td>\n",
       "      <td>4.589494e-01</td>\n",
       "      <td>1.330408e-01</td>\n",
       "      <td>1.863772e-01</td>\n",
       "      <td>5.285536e-01</td>\n",
       "      <td>1.476421e-01</td>\n",
       "      <td>4.395266e-01</td>\n",
       "      <td>3.507156e-01</td>\n",
       "      <td>2.409522e-01</td>\n",
       "      <td>9.104512e-02</td>\n",
       "      <td>7.827995e-02</td>\n",
       "      <td>77.165000</td>\n",
       "      <td>0.000000</td>\n",
       "    </tr>\n",
       "    <tr>\n",
       "      <td>max</td>\n",
       "      <td>172792.000000</td>\n",
       "      <td>2.454930e+00</td>\n",
       "      <td>2.205773e+01</td>\n",
       "      <td>9.382558e+00</td>\n",
       "      <td>1.687534e+01</td>\n",
       "      <td>3.480167e+01</td>\n",
       "      <td>7.330163e+01</td>\n",
       "      <td>1.205895e+02</td>\n",
       "      <td>2.000721e+01</td>\n",
       "      <td>1.559499e+01</td>\n",
       "      <td>2.374514e+01</td>\n",
       "      <td>1.201891e+01</td>\n",
       "      <td>7.848392e+00</td>\n",
       "      <td>7.126883e+00</td>\n",
       "      <td>1.052677e+01</td>\n",
       "      <td>8.877742e+00</td>\n",
       "      <td>1.731511e+01</td>\n",
       "      <td>9.253526e+00</td>\n",
       "      <td>5.041069e+00</td>\n",
       "      <td>5.591971e+00</td>\n",
       "      <td>3.942090e+01</td>\n",
       "      <td>2.720284e+01</td>\n",
       "      <td>1.050309e+01</td>\n",
       "      <td>2.252841e+01</td>\n",
       "      <td>4.584549e+00</td>\n",
       "      <td>7.519589e+00</td>\n",
       "      <td>3.517346e+00</td>\n",
       "      <td>3.161220e+01</td>\n",
       "      <td>3.384781e+01</td>\n",
       "      <td>25691.160000</td>\n",
       "      <td>1.000000</td>\n",
       "    </tr>\n",
       "  </tbody>\n",
       "</table>\n",
       "</div>"
      ],
      "text/plain": [
       "                Time            V1            V2            V3            V4  \\\n",
       "count  284807.000000  2.848070e+05  2.848070e+05  2.848070e+05  2.848070e+05   \n",
       "mean    94813.859575  3.919560e-15  5.688174e-16 -8.769071e-15  2.782312e-15   \n",
       "std     47488.145955  1.958696e+00  1.651309e+00  1.516255e+00  1.415869e+00   \n",
       "min         0.000000 -5.640751e+01 -7.271573e+01 -4.832559e+01 -5.683171e+00   \n",
       "25%     54201.500000 -9.203734e-01 -5.985499e-01 -8.903648e-01 -8.486401e-01   \n",
       "50%     84692.000000  1.810880e-02  6.548556e-02  1.798463e-01 -1.984653e-02   \n",
       "75%    139320.500000  1.315642e+00  8.037239e-01  1.027196e+00  7.433413e-01   \n",
       "max    172792.000000  2.454930e+00  2.205773e+01  9.382558e+00  1.687534e+01   \n",
       "\n",
       "                 V5            V6            V7            V8            V9  \\\n",
       "count  2.848070e+05  2.848070e+05  2.848070e+05  2.848070e+05  2.848070e+05   \n",
       "mean  -1.552563e-15  2.010663e-15 -1.694249e-15 -1.927028e-16 -3.137024e-15   \n",
       "std    1.380247e+00  1.332271e+00  1.237094e+00  1.194353e+00  1.098632e+00   \n",
       "min   -1.137433e+02 -2.616051e+01 -4.355724e+01 -7.321672e+01 -1.343407e+01   \n",
       "25%   -6.915971e-01 -7.682956e-01 -5.540759e-01 -2.086297e-01 -6.430976e-01   \n",
       "50%   -5.433583e-02 -2.741871e-01  4.010308e-02  2.235804e-02 -5.142873e-02   \n",
       "75%    6.119264e-01  3.985649e-01  5.704361e-01  3.273459e-01  5.971390e-01   \n",
       "max    3.480167e+01  7.330163e+01  1.205895e+02  2.000721e+01  1.559499e+01   \n",
       "\n",
       "                V10           V11           V12           V13           V14  \\\n",
       "count  2.848070e+05  2.848070e+05  2.848070e+05  2.848070e+05  2.848070e+05   \n",
       "mean   1.768627e-15  9.170318e-16 -1.810658e-15  1.693438e-15  1.479045e-15   \n",
       "std    1.088850e+00  1.020713e+00  9.992014e-01  9.952742e-01  9.585956e-01   \n",
       "min   -2.458826e+01 -4.797473e+00 -1.868371e+01 -5.791881e+00 -1.921433e+01   \n",
       "25%   -5.354257e-01 -7.624942e-01 -4.055715e-01 -6.485393e-01 -4.255740e-01   \n",
       "50%   -9.291738e-02 -3.275735e-02  1.400326e-01 -1.356806e-02  5.060132e-02   \n",
       "75%    4.539234e-01  7.395934e-01  6.182380e-01  6.625050e-01  4.931498e-01   \n",
       "max    2.374514e+01  1.201891e+01  7.848392e+00  7.126883e+00  1.052677e+01   \n",
       "\n",
       "                V15           V16           V17           V18           V19  \\\n",
       "count  2.848070e+05  2.848070e+05  2.848070e+05  2.848070e+05  2.848070e+05   \n",
       "mean   3.482336e-15  1.392007e-15 -7.528491e-16  4.328772e-16  9.049732e-16   \n",
       "std    9.153160e-01  8.762529e-01  8.493371e-01  8.381762e-01  8.140405e-01   \n",
       "min   -4.498945e+00 -1.412985e+01 -2.516280e+01 -9.498746e+00 -7.213527e+00   \n",
       "25%   -5.828843e-01 -4.680368e-01 -4.837483e-01 -4.988498e-01 -4.562989e-01   \n",
       "50%    4.807155e-02  6.641332e-02 -6.567575e-02 -3.636312e-03  3.734823e-03   \n",
       "75%    6.488208e-01  5.232963e-01  3.996750e-01  5.008067e-01  4.589494e-01   \n",
       "max    8.877742e+00  1.731511e+01  9.253526e+00  5.041069e+00  5.591971e+00   \n",
       "\n",
       "                V20           V21           V22           V23           V24  \\\n",
       "count  2.848070e+05  2.848070e+05  2.848070e+05  2.848070e+05  2.848070e+05   \n",
       "mean   5.085503e-16  1.537294e-16  7.959909e-16  5.367590e-16  4.458112e-15   \n",
       "std    7.709250e-01  7.345240e-01  7.257016e-01  6.244603e-01  6.056471e-01   \n",
       "min   -5.449772e+01 -3.483038e+01 -1.093314e+01 -4.480774e+01 -2.836627e+00   \n",
       "25%   -2.117214e-01 -2.283949e-01 -5.423504e-01 -1.618463e-01 -3.545861e-01   \n",
       "50%   -6.248109e-02 -2.945017e-02  6.781943e-03 -1.119293e-02  4.097606e-02   \n",
       "75%    1.330408e-01  1.863772e-01  5.285536e-01  1.476421e-01  4.395266e-01   \n",
       "max    3.942090e+01  2.720284e+01  1.050309e+01  2.252841e+01  4.584549e+00   \n",
       "\n",
       "                V25           V26           V27           V28         Amount  \\\n",
       "count  2.848070e+05  2.848070e+05  2.848070e+05  2.848070e+05  284807.000000   \n",
       "mean   1.453003e-15  1.699104e-15 -3.660161e-16 -1.206049e-16      88.349619   \n",
       "std    5.212781e-01  4.822270e-01  4.036325e-01  3.300833e-01     250.120109   \n",
       "min   -1.029540e+01 -2.604551e+00 -2.256568e+01 -1.543008e+01       0.000000   \n",
       "25%   -3.171451e-01 -3.269839e-01 -7.083953e-02 -5.295979e-02       5.600000   \n",
       "50%    1.659350e-02 -5.213911e-02  1.342146e-03  1.124383e-02      22.000000   \n",
       "75%    3.507156e-01  2.409522e-01  9.104512e-02  7.827995e-02      77.165000   \n",
       "max    7.519589e+00  3.517346e+00  3.161220e+01  3.384781e+01   25691.160000   \n",
       "\n",
       "               Class  \n",
       "count  284807.000000  \n",
       "mean        0.001727  \n",
       "std         0.041527  \n",
       "min         0.000000  \n",
       "25%         0.000000  \n",
       "50%         0.000000  \n",
       "75%         0.000000  \n",
       "max         1.000000  "
      ]
     },
     "execution_count": 6,
     "metadata": {},
     "output_type": "execute_result"
    }
   ],
   "source": [
    "df.describe()"
   ]
  },
  {
   "cell_type": "code",
   "execution_count": 7,
   "metadata": {},
   "outputs": [
    {
     "data": {
      "text/plain": [
       "Time      0\n",
       "V1        0\n",
       "V2        0\n",
       "V3        0\n",
       "V4        0\n",
       "V5        0\n",
       "V6        0\n",
       "V7        0\n",
       "V8        0\n",
       "V9        0\n",
       "V10       0\n",
       "V11       0\n",
       "V12       0\n",
       "V13       0\n",
       "V14       0\n",
       "V15       0\n",
       "V16       0\n",
       "V17       0\n",
       "V18       0\n",
       "V19       0\n",
       "V20       0\n",
       "V21       0\n",
       "V22       0\n",
       "V23       0\n",
       "V24       0\n",
       "V25       0\n",
       "V26       0\n",
       "V27       0\n",
       "V28       0\n",
       "Amount    0\n",
       "Class     0\n",
       "dtype: int64"
      ]
     },
     "execution_count": 7,
     "metadata": {},
     "output_type": "execute_result"
    }
   ],
   "source": [
    "#check null values\n",
    "df.isnull().sum()"
   ]
  },
  {
   "cell_type": "code",
   "execution_count": 8,
   "metadata": {},
   "outputs": [
    {
     "name": "stdout",
     "output_type": "stream",
     "text": [
      "<class 'pandas.core.frame.DataFrame'>\n",
      "RangeIndex: 284807 entries, 0 to 284806\n",
      "Data columns (total 31 columns):\n",
      "Time      284807 non-null float64\n",
      "V1        284807 non-null float64\n",
      "V2        284807 non-null float64\n",
      "V3        284807 non-null float64\n",
      "V4        284807 non-null float64\n",
      "V5        284807 non-null float64\n",
      "V6        284807 non-null float64\n",
      "V7        284807 non-null float64\n",
      "V8        284807 non-null float64\n",
      "V9        284807 non-null float64\n",
      "V10       284807 non-null float64\n",
      "V11       284807 non-null float64\n",
      "V12       284807 non-null float64\n",
      "V13       284807 non-null float64\n",
      "V14       284807 non-null float64\n",
      "V15       284807 non-null float64\n",
      "V16       284807 non-null float64\n",
      "V17       284807 non-null float64\n",
      "V18       284807 non-null float64\n",
      "V19       284807 non-null float64\n",
      "V20       284807 non-null float64\n",
      "V21       284807 non-null float64\n",
      "V22       284807 non-null float64\n",
      "V23       284807 non-null float64\n",
      "V24       284807 non-null float64\n",
      "V25       284807 non-null float64\n",
      "V26       284807 non-null float64\n",
      "V27       284807 non-null float64\n",
      "V28       284807 non-null float64\n",
      "Amount    284807 non-null float64\n",
      "Class     284807 non-null int64\n",
      "dtypes: float64(30), int64(1)\n",
      "memory usage: 67.4 MB\n"
     ]
    }
   ],
   "source": [
    "#no null values\n",
    "#check datatype\n",
    "df.info()"
   ]
  },
  {
   "cell_type": "markdown",
   "metadata": {},
   "source": [
    "<b>1. dataset is clean no need to apply EDA</b>\n"
   ]
  },
  {
   "cell_type": "code",
   "execution_count": 9,
   "metadata": {},
   "outputs": [
    {
     "data": {
      "text/plain": [
       "0    284315\n",
       "1       492\n",
       "Name: Class, dtype: int64"
      ]
     },
     "execution_count": 9,
     "metadata": {},
     "output_type": "execute_result"
    }
   ],
   "source": [
    "# check Imbalance in the data\n",
    "df[\"Class\"].value_counts()"
   ]
  },
  {
   "cell_type": "code",
   "execution_count": 10,
   "metadata": {},
   "outputs": [
    {
     "data": {
      "image/png": "[encoded data removed]",
      "text/plain": [
       "<Figure size 432x288 with 1 Axes>"
      ]
     },
     "metadata": {
      "needs_background": "light"
     },
     "output_type": "display_data"
    }
   ],
   "source": [
    "#visulize \n",
    "sns.countplot(data=df,x=\"Class\")\n",
    "c=df[\"Class\"].value_counts()\n",
    "plt.yticks(c)\n",
    "plt.show()"
   ]
  },
  {
   "cell_type": "code",
   "execution_count": 11,
   "metadata": {},
   "outputs": [
    {
     "name": "stdout",
     "output_type": "stream",
     "text": [
      "fraud_precentage:0.1727485630620034\n"
     ]
    }
   ],
   "source": [
    "fraud_per=492/284807*100\n",
    "print(f\"fraud_precentage:{fraud_per}\")"
   ]
  },
  {
   "cell_type": "markdown",
   "metadata": {},
   "source": [
    "<b>Only 0.17% fraudulent transaction out all the transactions. The data is highly Unbalanced. Lets first apply our models without balancing it and if we don’t get a good accuracy then we can find a way to balance this dataset. But first, let’s implement the model without it and will balance the data only if needed.</b>"
   ]
  },
  {
   "cell_type": "code",
   "execution_count": 12,
   "metadata": {},
   "outputs": [
    {
     "data": {
      "text/plain": [
       "count     492.000000\n",
       "mean      122.211321\n",
       "std       256.683288\n",
       "min         0.000000\n",
       "25%         1.000000\n",
       "50%         9.250000\n",
       "75%       105.890000\n",
       "max      2125.870000\n",
       "Name: Amount, dtype: float64"
      ]
     },
     "execution_count": 12,
     "metadata": {},
     "output_type": "execute_result"
    }
   ],
   "source": [
    "#check how much average amount withdra during fraud transaction\n",
    "fraud=df[df[\"Class\"]==1]\n",
    "valid=df[df[\"Class\"]==0]\n",
    "fraud.Amount.describe()"
   ]
  },
  {
   "cell_type": "code",
   "execution_count": 13,
   "metadata": {},
   "outputs": [
    {
     "data": {
      "text/plain": [
       "count    284315.000000\n",
       "mean         88.291022\n",
       "std         250.105092\n",
       "min           0.000000\n",
       "25%           5.650000\n",
       "50%          22.000000\n",
       "75%          77.050000\n",
       "max       25691.160000\n",
       "Name: Amount, dtype: float64"
      ]
     },
     "execution_count": 13,
     "metadata": {},
     "output_type": "execute_result"
    }
   ],
   "source": [
    "#check how much average amount withdra during valid transaction\n",
    "valid.Amount.describe()"
   ]
  },
  {
   "cell_type": "markdown",
   "metadata": {},
   "source": [
    " <b>the average Money transaction for the fraudulent ones is more as compared to valid transction.</b>"
   ]
  },
  {
   "cell_type": "code",
   "execution_count": 14,
   "metadata": {},
   "outputs": [
    {
     "data": {
      "text/html": [
       "<div>\n",
       "<style scoped>\n",
       "    .dataframe tbody tr th:only-of-type {\n",
       "        vertical-align: middle;\n",
       "    }\n",
       "\n",
       "    .dataframe tbody tr th {\n",
       "        vertical-align: top;\n",
       "    }\n",
       "\n",
       "    .dataframe thead th {\n",
       "        text-align: right;\n",
       "    }\n",
       "</style>\n",
       "<table border=\"1\" class=\"dataframe\">\n",
       "  <thead>\n",
       "    <tr style=\"text-align: right;\">\n",
       "      <th></th>\n",
       "      <th>Time</th>\n",
       "      <th>V1</th>\n",
       "      <th>V2</th>\n",
       "      <th>V3</th>\n",
       "      <th>V4</th>\n",
       "      <th>V5</th>\n",
       "      <th>V6</th>\n",
       "      <th>V7</th>\n",
       "      <th>V8</th>\n",
       "      <th>V9</th>\n",
       "      <th>V10</th>\n",
       "      <th>V11</th>\n",
       "      <th>V12</th>\n",
       "      <th>V13</th>\n",
       "      <th>V14</th>\n",
       "      <th>V15</th>\n",
       "      <th>V16</th>\n",
       "      <th>V17</th>\n",
       "      <th>V18</th>\n",
       "      <th>V19</th>\n",
       "      <th>V20</th>\n",
       "      <th>V21</th>\n",
       "      <th>V22</th>\n",
       "      <th>V23</th>\n",
       "      <th>V24</th>\n",
       "      <th>V25</th>\n",
       "      <th>V26</th>\n",
       "      <th>V27</th>\n",
       "      <th>V28</th>\n",
       "      <th>Amount</th>\n",
       "      <th>Class</th>\n",
       "    </tr>\n",
       "  </thead>\n",
       "  <tbody>\n",
       "    <tr>\n",
       "      <td>Time</td>\n",
       "      <td>1.000000</td>\n",
       "      <td>1.173963e-01</td>\n",
       "      <td>-1.059333e-02</td>\n",
       "      <td>-4.196182e-01</td>\n",
       "      <td>-1.052602e-01</td>\n",
       "      <td>1.730721e-01</td>\n",
       "      <td>-6.301647e-02</td>\n",
       "      <td>8.471437e-02</td>\n",
       "      <td>-3.694943e-02</td>\n",
       "      <td>-8.660434e-03</td>\n",
       "      <td>3.061663e-02</td>\n",
       "      <td>-2.476894e-01</td>\n",
       "      <td>1.243481e-01</td>\n",
       "      <td>-6.590202e-02</td>\n",
       "      <td>-9.875682e-02</td>\n",
       "      <td>-1.834533e-01</td>\n",
       "      <td>1.190287e-02</td>\n",
       "      <td>-7.329721e-02</td>\n",
       "      <td>9.043813e-02</td>\n",
       "      <td>2.897530e-02</td>\n",
       "      <td>-5.086602e-02</td>\n",
       "      <td>4.473573e-02</td>\n",
       "      <td>1.440591e-01</td>\n",
       "      <td>5.114236e-02</td>\n",
       "      <td>-1.618187e-02</td>\n",
       "      <td>-2.330828e-01</td>\n",
       "      <td>-4.140710e-02</td>\n",
       "      <td>-5.134591e-03</td>\n",
       "      <td>-9.412688e-03</td>\n",
       "      <td>-0.010596</td>\n",
       "      <td>-0.012323</td>\n",
       "    </tr>\n",
       "    <tr>\n",
       "      <td>V1</td>\n",
       "      <td>0.117396</td>\n",
       "      <td>1.000000e+00</td>\n",
       "      <td>4.697350e-17</td>\n",
       "      <td>-1.424390e-15</td>\n",
       "      <td>1.755316e-17</td>\n",
       "      <td>6.391162e-17</td>\n",
       "      <td>2.398071e-16</td>\n",
       "      <td>1.991550e-15</td>\n",
       "      <td>-9.490675e-17</td>\n",
       "      <td>2.169581e-16</td>\n",
       "      <td>7.433820e-17</td>\n",
       "      <td>2.438580e-16</td>\n",
       "      <td>2.422086e-16</td>\n",
       "      <td>-2.115458e-16</td>\n",
       "      <td>9.352582e-16</td>\n",
       "      <td>-3.252451e-16</td>\n",
       "      <td>6.308789e-16</td>\n",
       "      <td>-5.011524e-16</td>\n",
       "      <td>2.870125e-16</td>\n",
       "      <td>1.818128e-16</td>\n",
       "      <td>1.036959e-16</td>\n",
       "      <td>-1.755072e-16</td>\n",
       "      <td>7.477367e-17</td>\n",
       "      <td>9.808705e-16</td>\n",
       "      <td>7.354269e-17</td>\n",
       "      <td>-9.805358e-16</td>\n",
       "      <td>-8.621897e-17</td>\n",
       "      <td>3.208233e-17</td>\n",
       "      <td>9.820892e-16</td>\n",
       "      <td>-0.227709</td>\n",
       "      <td>-0.101347</td>\n",
       "    </tr>\n",
       "    <tr>\n",
       "      <td>V2</td>\n",
       "      <td>-0.010593</td>\n",
       "      <td>4.697350e-17</td>\n",
       "      <td>1.000000e+00</td>\n",
       "      <td>2.512175e-16</td>\n",
       "      <td>-1.126388e-16</td>\n",
       "      <td>-2.039868e-16</td>\n",
       "      <td>5.024680e-16</td>\n",
       "      <td>3.966486e-16</td>\n",
       "      <td>-4.413984e-17</td>\n",
       "      <td>-5.728718e-17</td>\n",
       "      <td>-4.782388e-16</td>\n",
       "      <td>9.468995e-16</td>\n",
       "      <td>-6.588252e-16</td>\n",
       "      <td>3.854521e-16</td>\n",
       "      <td>-2.541036e-16</td>\n",
       "      <td>2.831060e-16</td>\n",
       "      <td>4.934097e-17</td>\n",
       "      <td>-9.883008e-16</td>\n",
       "      <td>2.636654e-16</td>\n",
       "      <td>9.528280e-17</td>\n",
       "      <td>-9.309954e-16</td>\n",
       "      <td>8.444409e-17</td>\n",
       "      <td>2.500830e-16</td>\n",
       "      <td>1.059562e-16</td>\n",
       "      <td>-8.142354e-18</td>\n",
       "      <td>-4.261894e-17</td>\n",
       "      <td>2.601622e-16</td>\n",
       "      <td>-4.478472e-16</td>\n",
       "      <td>-3.676415e-16</td>\n",
       "      <td>-0.531409</td>\n",
       "      <td>0.091289</td>\n",
       "    </tr>\n",
       "    <tr>\n",
       "      <td>V3</td>\n",
       "      <td>-0.419618</td>\n",
       "      <td>-1.424390e-15</td>\n",
       "      <td>2.512175e-16</td>\n",
       "      <td>1.000000e+00</td>\n",
       "      <td>-3.416910e-16</td>\n",
       "      <td>-1.436514e-15</td>\n",
       "      <td>1.431581e-15</td>\n",
       "      <td>2.168574e-15</td>\n",
       "      <td>3.433113e-16</td>\n",
       "      <td>-4.233770e-16</td>\n",
       "      <td>6.289267e-16</td>\n",
       "      <td>-5.501758e-17</td>\n",
       "      <td>2.206522e-16</td>\n",
       "      <td>-6.883375e-16</td>\n",
       "      <td>4.271336e-16</td>\n",
       "      <td>1.122756e-16</td>\n",
       "      <td>1.183364e-15</td>\n",
       "      <td>4.576619e-17</td>\n",
       "      <td>5.427965e-16</td>\n",
       "      <td>2.576773e-16</td>\n",
       "      <td>-9.429297e-16</td>\n",
       "      <td>-2.971969e-17</td>\n",
       "      <td>4.648259e-16</td>\n",
       "      <td>2.115206e-17</td>\n",
       "      <td>-9.351637e-17</td>\n",
       "      <td>4.771164e-16</td>\n",
       "      <td>6.521501e-16</td>\n",
       "      <td>6.239832e-16</td>\n",
       "      <td>7.726948e-16</td>\n",
       "      <td>-0.210880</td>\n",
       "      <td>-0.192961</td>\n",
       "    </tr>\n",
       "    <tr>\n",
       "      <td>V4</td>\n",
       "      <td>-0.105260</td>\n",
       "      <td>1.755316e-17</td>\n",
       "      <td>-1.126388e-16</td>\n",
       "      <td>-3.416910e-16</td>\n",
       "      <td>1.000000e+00</td>\n",
       "      <td>-1.940929e-15</td>\n",
       "      <td>-2.712659e-16</td>\n",
       "      <td>1.556330e-16</td>\n",
       "      <td>5.195643e-16</td>\n",
       "      <td>3.859585e-16</td>\n",
       "      <td>6.055490e-16</td>\n",
       "      <td>-2.083600e-16</td>\n",
       "      <td>-5.657963e-16</td>\n",
       "      <td>-1.506129e-16</td>\n",
       "      <td>-8.522435e-17</td>\n",
       "      <td>-1.507718e-16</td>\n",
       "      <td>-6.939204e-16</td>\n",
       "      <td>-4.397925e-16</td>\n",
       "      <td>1.493667e-16</td>\n",
       "      <td>-2.656938e-16</td>\n",
       "      <td>-3.223123e-16</td>\n",
       "      <td>-9.976950e-17</td>\n",
       "      <td>2.099922e-16</td>\n",
       "      <td>6.002528e-17</td>\n",
       "      <td>2.229738e-16</td>\n",
       "      <td>5.394585e-16</td>\n",
       "      <td>-6.179751e-16</td>\n",
       "      <td>-6.403423e-17</td>\n",
       "      <td>-5.863664e-17</td>\n",
       "      <td>0.098732</td>\n",
       "      <td>0.133447</td>\n",
       "    </tr>\n",
       "    <tr>\n",
       "      <td>V5</td>\n",
       "      <td>0.173072</td>\n",
       "      <td>6.391162e-17</td>\n",
       "      <td>-2.039868e-16</td>\n",
       "      <td>-1.436514e-15</td>\n",
       "      <td>-1.940929e-15</td>\n",
       "      <td>1.000000e+00</td>\n",
       "      <td>7.926364e-16</td>\n",
       "      <td>-4.209851e-16</td>\n",
       "      <td>7.589187e-16</td>\n",
       "      <td>4.205206e-16</td>\n",
       "      <td>-6.601716e-16</td>\n",
       "      <td>7.342759e-16</td>\n",
       "      <td>3.761033e-16</td>\n",
       "      <td>-9.578659e-16</td>\n",
       "      <td>-3.634803e-16</td>\n",
       "      <td>-5.132620e-16</td>\n",
       "      <td>-3.517076e-16</td>\n",
       "      <td>1.425729e-16</td>\n",
       "      <td>1.109525e-15</td>\n",
       "      <td>-3.138234e-16</td>\n",
       "      <td>2.076048e-16</td>\n",
       "      <td>-1.368701e-16</td>\n",
       "      <td>5.060029e-16</td>\n",
       "      <td>1.637596e-16</td>\n",
       "      <td>-9.286095e-16</td>\n",
       "      <td>5.625102e-16</td>\n",
       "      <td>9.144690e-16</td>\n",
       "      <td>4.465960e-16</td>\n",
       "      <td>-3.299167e-16</td>\n",
       "      <td>-0.386356</td>\n",
       "      <td>-0.094974</td>\n",
       "    </tr>\n",
       "    <tr>\n",
       "      <td>V6</td>\n",
       "      <td>-0.063016</td>\n",
       "      <td>2.398071e-16</td>\n",
       "      <td>5.024680e-16</td>\n",
       "      <td>1.431581e-15</td>\n",
       "      <td>-2.712659e-16</td>\n",
       "      <td>7.926364e-16</td>\n",
       "      <td>1.000000e+00</td>\n",
       "      <td>1.429426e-16</td>\n",
       "      <td>-1.707421e-16</td>\n",
       "      <td>1.114447e-16</td>\n",
       "      <td>2.850776e-16</td>\n",
       "      <td>4.865799e-16</td>\n",
       "      <td>2.140589e-16</td>\n",
       "      <td>-2.268061e-16</td>\n",
       "      <td>3.452801e-16</td>\n",
       "      <td>-6.368111e-18</td>\n",
       "      <td>-2.477917e-16</td>\n",
       "      <td>3.567582e-16</td>\n",
       "      <td>2.811474e-16</td>\n",
       "      <td>2.717167e-16</td>\n",
       "      <td>1.898638e-16</td>\n",
       "      <td>-1.575903e-16</td>\n",
       "      <td>-3.362902e-16</td>\n",
       "      <td>-7.232186e-17</td>\n",
       "      <td>-1.261867e-15</td>\n",
       "      <td>1.081933e-15</td>\n",
       "      <td>-2.378414e-16</td>\n",
       "      <td>-2.623818e-16</td>\n",
       "      <td>4.813155e-16</td>\n",
       "      <td>0.215981</td>\n",
       "      <td>-0.043643</td>\n",
       "    </tr>\n",
       "    <tr>\n",
       "      <td>V7</td>\n",
       "      <td>0.084714</td>\n",
       "      <td>1.991550e-15</td>\n",
       "      <td>3.966486e-16</td>\n",
       "      <td>2.168574e-15</td>\n",
       "      <td>1.556330e-16</td>\n",
       "      <td>-4.209851e-16</td>\n",
       "      <td>1.429426e-16</td>\n",
       "      <td>1.000000e+00</td>\n",
       "      <td>-8.691834e-17</td>\n",
       "      <td>7.933251e-16</td>\n",
       "      <td>3.043333e-17</td>\n",
       "      <td>-1.084105e-15</td>\n",
       "      <td>1.510045e-15</td>\n",
       "      <td>-9.892325e-17</td>\n",
       "      <td>-1.729462e-16</td>\n",
       "      <td>1.936832e-17</td>\n",
       "      <td>2.893672e-16</td>\n",
       "      <td>1.149692e-15</td>\n",
       "      <td>-1.116789e-16</td>\n",
       "      <td>-2.874017e-16</td>\n",
       "      <td>1.744242e-16</td>\n",
       "      <td>1.938604e-16</td>\n",
       "      <td>-1.058131e-15</td>\n",
       "      <td>2.327911e-16</td>\n",
       "      <td>-2.589727e-17</td>\n",
       "      <td>1.174169e-15</td>\n",
       "      <td>-7.334507e-16</td>\n",
       "      <td>-5.886825e-16</td>\n",
       "      <td>-6.836764e-17</td>\n",
       "      <td>0.397311</td>\n",
       "      <td>-0.187257</td>\n",
       "    </tr>\n",
       "    <tr>\n",
       "      <td>V8</td>\n",
       "      <td>-0.036949</td>\n",
       "      <td>-9.490675e-17</td>\n",
       "      <td>-4.413984e-17</td>\n",
       "      <td>3.433113e-16</td>\n",
       "      <td>5.195643e-16</td>\n",
       "      <td>7.589187e-16</td>\n",
       "      <td>-1.707421e-16</td>\n",
       "      <td>-8.691834e-17</td>\n",
       "      <td>1.000000e+00</td>\n",
       "      <td>2.900829e-16</td>\n",
       "      <td>9.051847e-17</td>\n",
       "      <td>1.954747e-16</td>\n",
       "      <td>-6.266057e-17</td>\n",
       "      <td>-2.382948e-16</td>\n",
       "      <td>-1.131098e-16</td>\n",
       "      <td>2.021491e-16</td>\n",
       "      <td>5.027192e-16</td>\n",
       "      <td>-3.508777e-16</td>\n",
       "      <td>-4.093852e-16</td>\n",
       "      <td>-5.339821e-16</td>\n",
       "      <td>-1.095534e-16</td>\n",
       "      <td>-2.412439e-16</td>\n",
       "      <td>5.475559e-16</td>\n",
       "      <td>3.897104e-16</td>\n",
       "      <td>-1.802967e-16</td>\n",
       "      <td>-1.390791e-16</td>\n",
       "      <td>-1.209975e-16</td>\n",
       "      <td>1.733633e-16</td>\n",
       "      <td>-4.484325e-16</td>\n",
       "      <td>-0.103079</td>\n",
       "      <td>0.019875</td>\n",
       "    </tr>\n",
       "    <tr>\n",
       "      <td>V9</td>\n",
       "      <td>-0.008660</td>\n",
       "      <td>2.169581e-16</td>\n",
       "      <td>-5.728718e-17</td>\n",
       "      <td>-4.233770e-16</td>\n",
       "      <td>3.859585e-16</td>\n",
       "      <td>4.205206e-16</td>\n",
       "      <td>1.114447e-16</td>\n",
       "      <td>7.933251e-16</td>\n",
       "      <td>2.900829e-16</td>\n",
       "      <td>1.000000e+00</td>\n",
       "      <td>-2.771761e-16</td>\n",
       "      <td>4.682341e-16</td>\n",
       "      <td>-2.445230e-15</td>\n",
       "      <td>-2.650351e-16</td>\n",
       "      <td>2.343317e-16</td>\n",
       "      <td>-1.588105e-15</td>\n",
       "      <td>-3.251906e-16</td>\n",
       "      <td>6.535992e-16</td>\n",
       "      <td>1.203843e-16</td>\n",
       "      <td>1.120752e-16</td>\n",
       "      <td>-4.340941e-16</td>\n",
       "      <td>4.578389e-17</td>\n",
       "      <td>2.871855e-17</td>\n",
       "      <td>5.929286e-16</td>\n",
       "      <td>-2.346385e-16</td>\n",
       "      <td>1.099645e-15</td>\n",
       "      <td>-1.388725e-15</td>\n",
       "      <td>-2.287414e-16</td>\n",
       "      <td>9.146779e-16</td>\n",
       "      <td>-0.044246</td>\n",
       "      <td>-0.097733</td>\n",
       "    </tr>\n",
       "    <tr>\n",
       "      <td>V10</td>\n",
       "      <td>0.030617</td>\n",
       "      <td>7.433820e-17</td>\n",
       "      <td>-4.782388e-16</td>\n",
       "      <td>6.289267e-16</td>\n",
       "      <td>6.055490e-16</td>\n",
       "      <td>-6.601716e-16</td>\n",
       "      <td>2.850776e-16</td>\n",
       "      <td>3.043333e-17</td>\n",
       "      <td>9.051847e-17</td>\n",
       "      <td>-2.771761e-16</td>\n",
       "      <td>1.000000e+00</td>\n",
       "      <td>2.624448e-16</td>\n",
       "      <td>1.439907e-15</td>\n",
       "      <td>-8.853582e-16</td>\n",
       "      <td>2.622513e-16</td>\n",
       "      <td>7.615272e-16</td>\n",
       "      <td>-1.705923e-15</td>\n",
       "      <td>3.674182e-15</td>\n",
       "      <td>3.986710e-16</td>\n",
       "      <td>2.663038e-17</td>\n",
       "      <td>-1.141888e-15</td>\n",
       "      <td>8.089504e-16</td>\n",
       "      <td>-6.707598e-16</td>\n",
       "      <td>3.809732e-16</td>\n",
       "      <td>-4.032806e-17</td>\n",
       "      <td>-2.863813e-16</td>\n",
       "      <td>-2.554293e-16</td>\n",
       "      <td>-3.103239e-16</td>\n",
       "      <td>-1.515934e-16</td>\n",
       "      <td>-0.101502</td>\n",
       "      <td>-0.216883</td>\n",
       "    </tr>\n",
       "    <tr>\n",
       "      <td>V11</td>\n",
       "      <td>-0.247689</td>\n",
       "      <td>2.438580e-16</td>\n",
       "      <td>9.468995e-16</td>\n",
       "      <td>-5.501758e-17</td>\n",
       "      <td>-2.083600e-16</td>\n",
       "      <td>7.342759e-16</td>\n",
       "      <td>4.865799e-16</td>\n",
       "      <td>-1.084105e-15</td>\n",
       "      <td>1.954747e-16</td>\n",
       "      <td>4.682341e-16</td>\n",
       "      <td>2.624448e-16</td>\n",
       "      <td>1.000000e+00</td>\n",
       "      <td>3.176029e-15</td>\n",
       "      <td>1.945810e-15</td>\n",
       "      <td>3.637160e-17</td>\n",
       "      <td>4.801345e-16</td>\n",
       "      <td>-6.173867e-16</td>\n",
       "      <td>8.719713e-16</td>\n",
       "      <td>5.978229e-16</td>\n",
       "      <td>3.216338e-16</td>\n",
       "      <td>-2.310189e-16</td>\n",
       "      <td>-3.911893e-16</td>\n",
       "      <td>-3.811640e-17</td>\n",
       "      <td>2.232007e-16</td>\n",
       "      <td>1.219849e-15</td>\n",
       "      <td>-4.567635e-16</td>\n",
       "      <td>-1.110976e-16</td>\n",
       "      <td>-2.635827e-16</td>\n",
       "      <td>-3.091914e-16</td>\n",
       "      <td>0.000104</td>\n",
       "      <td>0.154876</td>\n",
       "    </tr>\n",
       "    <tr>\n",
       "      <td>V12</td>\n",
       "      <td>0.124348</td>\n",
       "      <td>2.422086e-16</td>\n",
       "      <td>-6.588252e-16</td>\n",
       "      <td>2.206522e-16</td>\n",
       "      <td>-5.657963e-16</td>\n",
       "      <td>3.761033e-16</td>\n",
       "      <td>2.140589e-16</td>\n",
       "      <td>1.510045e-15</td>\n",
       "      <td>-6.266057e-17</td>\n",
       "      <td>-2.445230e-15</td>\n",
       "      <td>1.439907e-15</td>\n",
       "      <td>3.176029e-15</td>\n",
       "      <td>1.000000e+00</td>\n",
       "      <td>-2.306149e-14</td>\n",
       "      <td>1.761652e-16</td>\n",
       "      <td>8.858186e-16</td>\n",
       "      <td>3.530418e-16</td>\n",
       "      <td>-9.869814e-16</td>\n",
       "      <td>-5.881814e-16</td>\n",
       "      <td>9.282566e-17</td>\n",
       "      <td>1.276976e-16</td>\n",
       "      <td>3.229576e-16</td>\n",
       "      <td>-5.903992e-16</td>\n",
       "      <td>1.392162e-16</td>\n",
       "      <td>4.901644e-16</td>\n",
       "      <td>5.053736e-16</td>\n",
       "      <td>-5.759321e-16</td>\n",
       "      <td>-2.312619e-16</td>\n",
       "      <td>7.327446e-16</td>\n",
       "      <td>-0.009542</td>\n",
       "      <td>-0.260593</td>\n",
       "    </tr>\n",
       "    <tr>\n",
       "      <td>V13</td>\n",
       "      <td>-0.065902</td>\n",
       "      <td>-2.115458e-16</td>\n",
       "      <td>3.854521e-16</td>\n",
       "      <td>-6.883375e-16</td>\n",
       "      <td>-1.506129e-16</td>\n",
       "      <td>-9.578659e-16</td>\n",
       "      <td>-2.268061e-16</td>\n",
       "      <td>-9.892325e-17</td>\n",
       "      <td>-2.382948e-16</td>\n",
       "      <td>-2.650351e-16</td>\n",
       "      <td>-8.853582e-16</td>\n",
       "      <td>1.945810e-15</td>\n",
       "      <td>-2.306149e-14</td>\n",
       "      <td>1.000000e+00</td>\n",
       "      <td>2.841428e-15</td>\n",
       "      <td>-4.728048e-16</td>\n",
       "      <td>3.361767e-16</td>\n",
       "      <td>-3.187905e-16</td>\n",
       "      <td>3.192535e-16</td>\n",
       "      <td>-2.594988e-16</td>\n",
       "      <td>2.345665e-18</td>\n",
       "      <td>9.499130e-17</td>\n",
       "      <td>-2.659710e-17</td>\n",
       "      <td>-5.884304e-16</td>\n",
       "      <td>-5.470547e-16</td>\n",
       "      <td>8.066738e-17</td>\n",
       "      <td>-2.121518e-16</td>\n",
       "      <td>-4.520414e-16</td>\n",
       "      <td>1.049541e-15</td>\n",
       "      <td>0.005293</td>\n",
       "      <td>-0.004570</td>\n",
       "    </tr>\n",
       "    <tr>\n",
       "      <td>V14</td>\n",
       "      <td>-0.098757</td>\n",
       "      <td>9.352582e-16</td>\n",
       "      <td>-2.541036e-16</td>\n",
       "      <td>4.271336e-16</td>\n",
       "      <td>-8.522435e-17</td>\n",
       "      <td>-3.634803e-16</td>\n",
       "      <td>3.452801e-16</td>\n",
       "      <td>-1.729462e-16</td>\n",
       "      <td>-1.131098e-16</td>\n",
       "      <td>2.343317e-16</td>\n",
       "      <td>2.622513e-16</td>\n",
       "      <td>3.637160e-17</td>\n",
       "      <td>1.761652e-16</td>\n",
       "      <td>2.841428e-15</td>\n",
       "      <td>1.000000e+00</td>\n",
       "      <td>4.165738e-17</td>\n",
       "      <td>7.910367e-17</td>\n",
       "      <td>4.626140e-15</td>\n",
       "      <td>8.980955e-17</td>\n",
       "      <td>-1.061486e-16</td>\n",
       "      <td>-1.789433e-16</td>\n",
       "      <td>1.634141e-17</td>\n",
       "      <td>3.439699e-16</td>\n",
       "      <td>7.620728e-17</td>\n",
       "      <td>2.335749e-16</td>\n",
       "      <td>-2.606783e-16</td>\n",
       "      <td>-6.580254e-18</td>\n",
       "      <td>1.285770e-16</td>\n",
       "      <td>2.503271e-15</td>\n",
       "      <td>0.033751</td>\n",
       "      <td>-0.302544</td>\n",
       "    </tr>\n",
       "    <tr>\n",
       "      <td>V15</td>\n",
       "      <td>-0.183453</td>\n",
       "      <td>-3.252451e-16</td>\n",
       "      <td>2.831060e-16</td>\n",
       "      <td>1.122756e-16</td>\n",
       "      <td>-1.507718e-16</td>\n",
       "      <td>-5.132620e-16</td>\n",
       "      <td>-6.368111e-18</td>\n",
       "      <td>1.936832e-17</td>\n",
       "      <td>2.021491e-16</td>\n",
       "      <td>-1.588105e-15</td>\n",
       "      <td>7.615272e-16</td>\n",
       "      <td>4.801345e-16</td>\n",
       "      <td>8.858186e-16</td>\n",
       "      <td>-4.728048e-16</td>\n",
       "      <td>4.165738e-17</td>\n",
       "      <td>1.000000e+00</td>\n",
       "      <td>1.335904e-15</td>\n",
       "      <td>3.208310e-16</td>\n",
       "      <td>7.538156e-16</td>\n",
       "      <td>-8.556257e-16</td>\n",
       "      <td>3.240475e-16</td>\n",
       "      <td>1.947458e-17</td>\n",
       "      <td>-8.936817e-16</td>\n",
       "      <td>1.119827e-16</td>\n",
       "      <td>-4.589689e-16</td>\n",
       "      <td>3.869740e-16</td>\n",
       "      <td>3.761094e-16</td>\n",
       "      <td>-1.265235e-15</td>\n",
       "      <td>-1.063286e-15</td>\n",
       "      <td>-0.002986</td>\n",
       "      <td>-0.004223</td>\n",
       "    </tr>\n",
       "    <tr>\n",
       "      <td>V16</td>\n",
       "      <td>0.011903</td>\n",
       "      <td>6.308789e-16</td>\n",
       "      <td>4.934097e-17</td>\n",
       "      <td>1.183364e-15</td>\n",
       "      <td>-6.939204e-16</td>\n",
       "      <td>-3.517076e-16</td>\n",
       "      <td>-2.477917e-16</td>\n",
       "      <td>2.893672e-16</td>\n",
       "      <td>5.027192e-16</td>\n",
       "      <td>-3.251906e-16</td>\n",
       "      <td>-1.705923e-15</td>\n",
       "      <td>-6.173867e-16</td>\n",
       "      <td>3.530418e-16</td>\n",
       "      <td>3.361767e-16</td>\n",
       "      <td>7.910367e-17</td>\n",
       "      <td>1.335904e-15</td>\n",
       "      <td>1.000000e+00</td>\n",
       "      <td>1.854297e-15</td>\n",
       "      <td>-3.015119e-15</td>\n",
       "      <td>1.041659e-15</td>\n",
       "      <td>3.903456e-16</td>\n",
       "      <td>-3.927401e-16</td>\n",
       "      <td>3.878384e-17</td>\n",
       "      <td>8.519670e-16</td>\n",
       "      <td>-4.289239e-16</td>\n",
       "      <td>-6.644104e-16</td>\n",
       "      <td>-5.186503e-16</td>\n",
       "      <td>7.820038e-16</td>\n",
       "      <td>8.637186e-16</td>\n",
       "      <td>-0.003910</td>\n",
       "      <td>-0.196539</td>\n",
       "    </tr>\n",
       "    <tr>\n",
       "      <td>V17</td>\n",
       "      <td>-0.073297</td>\n",
       "      <td>-5.011524e-16</td>\n",
       "      <td>-9.883008e-16</td>\n",
       "      <td>4.576619e-17</td>\n",
       "      <td>-4.397925e-16</td>\n",
       "      <td>1.425729e-16</td>\n",
       "      <td>3.567582e-16</td>\n",
       "      <td>1.149692e-15</td>\n",
       "      <td>-3.508777e-16</td>\n",
       "      <td>6.535992e-16</td>\n",
       "      <td>3.674182e-15</td>\n",
       "      <td>8.719713e-16</td>\n",
       "      <td>-9.869814e-16</td>\n",
       "      <td>-3.187905e-16</td>\n",
       "      <td>4.626140e-15</td>\n",
       "      <td>3.208310e-16</td>\n",
       "      <td>1.854297e-15</td>\n",
       "      <td>1.000000e+00</td>\n",
       "      <td>-5.584714e-15</td>\n",
       "      <td>-3.916791e-16</td>\n",
       "      <td>-9.887431e-16</td>\n",
       "      <td>-7.753967e-16</td>\n",
       "      <td>-8.389703e-16</td>\n",
       "      <td>5.367784e-16</td>\n",
       "      <td>-5.543631e-17</td>\n",
       "      <td>4.822068e-16</td>\n",
       "      <td>4.870302e-16</td>\n",
       "      <td>8.844373e-16</td>\n",
       "      <td>-2.182692e-16</td>\n",
       "      <td>0.007309</td>\n",
       "      <td>-0.326481</td>\n",
       "    </tr>\n",
       "    <tr>\n",
       "      <td>V18</td>\n",
       "      <td>0.090438</td>\n",
       "      <td>2.870125e-16</td>\n",
       "      <td>2.636654e-16</td>\n",
       "      <td>5.427965e-16</td>\n",
       "      <td>1.493667e-16</td>\n",
       "      <td>1.109525e-15</td>\n",
       "      <td>2.811474e-16</td>\n",
       "      <td>-1.116789e-16</td>\n",
       "      <td>-4.093852e-16</td>\n",
       "      <td>1.203843e-16</td>\n",
       "      <td>3.986710e-16</td>\n",
       "      <td>5.978229e-16</td>\n",
       "      <td>-5.881814e-16</td>\n",
       "      <td>3.192535e-16</td>\n",
       "      <td>8.980955e-17</td>\n",
       "      <td>7.538156e-16</td>\n",
       "      <td>-3.015119e-15</td>\n",
       "      <td>-5.584714e-15</td>\n",
       "      <td>1.000000e+00</td>\n",
       "      <td>-2.424185e-15</td>\n",
       "      <td>-4.942764e-16</td>\n",
       "      <td>-1.140973e-15</td>\n",
       "      <td>-8.662635e-17</td>\n",
       "      <td>-3.624236e-16</td>\n",
       "      <td>-1.126043e-16</td>\n",
       "      <td>-2.310856e-16</td>\n",
       "      <td>3.183964e-16</td>\n",
       "      <td>2.435170e-16</td>\n",
       "      <td>8.844995e-16</td>\n",
       "      <td>0.035650</td>\n",
       "      <td>-0.111485</td>\n",
       "    </tr>\n",
       "    <tr>\n",
       "      <td>V19</td>\n",
       "      <td>0.028975</td>\n",
       "      <td>1.818128e-16</td>\n",
       "      <td>9.528280e-17</td>\n",
       "      <td>2.576773e-16</td>\n",
       "      <td>-2.656938e-16</td>\n",
       "      <td>-3.138234e-16</td>\n",
       "      <td>2.717167e-16</td>\n",
       "      <td>-2.874017e-16</td>\n",
       "      <td>-5.339821e-16</td>\n",
       "      <td>1.120752e-16</td>\n",
       "      <td>2.663038e-17</td>\n",
       "      <td>3.216338e-16</td>\n",
       "      <td>9.282566e-17</td>\n",
       "      <td>-2.594988e-16</td>\n",
       "      <td>-1.061486e-16</td>\n",
       "      <td>-8.556257e-16</td>\n",
       "      <td>1.041659e-15</td>\n",
       "      <td>-3.916791e-16</td>\n",
       "      <td>-2.424185e-15</td>\n",
       "      <td>1.000000e+00</td>\n",
       "      <td>2.938450e-16</td>\n",
       "      <td>4.032541e-16</td>\n",
       "      <td>-9.690436e-16</td>\n",
       "      <td>5.733798e-16</td>\n",
       "      <td>3.126716e-17</td>\n",
       "      <td>7.415355e-16</td>\n",
       "      <td>5.614354e-16</td>\n",
       "      <td>-1.113035e-16</td>\n",
       "      <td>-1.375843e-15</td>\n",
       "      <td>-0.056151</td>\n",
       "      <td>0.034783</td>\n",
       "    </tr>\n",
       "    <tr>\n",
       "      <td>V20</td>\n",
       "      <td>-0.050866</td>\n",
       "      <td>1.036959e-16</td>\n",
       "      <td>-9.309954e-16</td>\n",
       "      <td>-9.429297e-16</td>\n",
       "      <td>-3.223123e-16</td>\n",
       "      <td>2.076048e-16</td>\n",
       "      <td>1.898638e-16</td>\n",
       "      <td>1.744242e-16</td>\n",
       "      <td>-1.095534e-16</td>\n",
       "      <td>-4.340941e-16</td>\n",
       "      <td>-1.141888e-15</td>\n",
       "      <td>-2.310189e-16</td>\n",
       "      <td>1.276976e-16</td>\n",
       "      <td>2.345665e-18</td>\n",
       "      <td>-1.789433e-16</td>\n",
       "      <td>3.240475e-16</td>\n",
       "      <td>3.903456e-16</td>\n",
       "      <td>-9.887431e-16</td>\n",
       "      <td>-4.942764e-16</td>\n",
       "      <td>2.938450e-16</td>\n",
       "      <td>1.000000e+00</td>\n",
       "      <td>-1.120828e-15</td>\n",
       "      <td>1.105842e-15</td>\n",
       "      <td>4.986739e-16</td>\n",
       "      <td>1.637488e-16</td>\n",
       "      <td>-1.518242e-16</td>\n",
       "      <td>-2.975081e-16</td>\n",
       "      <td>-1.446069e-15</td>\n",
       "      <td>-1.133579e-16</td>\n",
       "      <td>0.339403</td>\n",
       "      <td>0.020090</td>\n",
       "    </tr>\n",
       "    <tr>\n",
       "      <td>V21</td>\n",
       "      <td>0.044736</td>\n",
       "      <td>-1.755072e-16</td>\n",
       "      <td>8.444409e-17</td>\n",
       "      <td>-2.971969e-17</td>\n",
       "      <td>-9.976950e-17</td>\n",
       "      <td>-1.368701e-16</td>\n",
       "      <td>-1.575903e-16</td>\n",
       "      <td>1.938604e-16</td>\n",
       "      <td>-2.412439e-16</td>\n",
       "      <td>4.578389e-17</td>\n",
       "      <td>8.089504e-16</td>\n",
       "      <td>-3.911893e-16</td>\n",
       "      <td>3.229576e-16</td>\n",
       "      <td>9.499130e-17</td>\n",
       "      <td>1.634141e-17</td>\n",
       "      <td>1.947458e-17</td>\n",
       "      <td>-3.927401e-16</td>\n",
       "      <td>-7.753967e-16</td>\n",
       "      <td>-1.140973e-15</td>\n",
       "      <td>4.032541e-16</td>\n",
       "      <td>-1.120828e-15</td>\n",
       "      <td>1.000000e+00</td>\n",
       "      <td>3.905948e-15</td>\n",
       "      <td>6.127323e-16</td>\n",
       "      <td>1.298254e-16</td>\n",
       "      <td>-2.826293e-16</td>\n",
       "      <td>-4.907301e-16</td>\n",
       "      <td>-1.033403e-15</td>\n",
       "      <td>5.132234e-16</td>\n",
       "      <td>0.105999</td>\n",
       "      <td>0.040413</td>\n",
       "    </tr>\n",
       "    <tr>\n",
       "      <td>V22</td>\n",
       "      <td>0.144059</td>\n",
       "      <td>7.477367e-17</td>\n",
       "      <td>2.500830e-16</td>\n",
       "      <td>4.648259e-16</td>\n",
       "      <td>2.099922e-16</td>\n",
       "      <td>5.060029e-16</td>\n",
       "      <td>-3.362902e-16</td>\n",
       "      <td>-1.058131e-15</td>\n",
       "      <td>5.475559e-16</td>\n",
       "      <td>2.871855e-17</td>\n",
       "      <td>-6.707598e-16</td>\n",
       "      <td>-3.811640e-17</td>\n",
       "      <td>-5.903992e-16</td>\n",
       "      <td>-2.659710e-17</td>\n",
       "      <td>3.439699e-16</td>\n",
       "      <td>-8.936817e-16</td>\n",
       "      <td>3.878384e-17</td>\n",
       "      <td>-8.389703e-16</td>\n",
       "      <td>-8.662635e-17</td>\n",
       "      <td>-9.690436e-16</td>\n",
       "      <td>1.105842e-15</td>\n",
       "      <td>3.905948e-15</td>\n",
       "      <td>1.000000e+00</td>\n",
       "      <td>3.130812e-16</td>\n",
       "      <td>1.150829e-17</td>\n",
       "      <td>-6.078986e-16</td>\n",
       "      <td>-8.477050e-16</td>\n",
       "      <td>-1.294910e-16</td>\n",
       "      <td>-3.021376e-16</td>\n",
       "      <td>-0.064801</td>\n",
       "      <td>0.000805</td>\n",
       "    </tr>\n",
       "    <tr>\n",
       "      <td>V23</td>\n",
       "      <td>0.051142</td>\n",
       "      <td>9.808705e-16</td>\n",
       "      <td>1.059562e-16</td>\n",
       "      <td>2.115206e-17</td>\n",
       "      <td>6.002528e-17</td>\n",
       "      <td>1.637596e-16</td>\n",
       "      <td>-7.232186e-17</td>\n",
       "      <td>2.327911e-16</td>\n",
       "      <td>3.897104e-16</td>\n",
       "      <td>5.929286e-16</td>\n",
       "      <td>3.809732e-16</td>\n",
       "      <td>2.232007e-16</td>\n",
       "      <td>1.392162e-16</td>\n",
       "      <td>-5.884304e-16</td>\n",
       "      <td>7.620728e-17</td>\n",
       "      <td>1.119827e-16</td>\n",
       "      <td>8.519670e-16</td>\n",
       "      <td>5.367784e-16</td>\n",
       "      <td>-3.624236e-16</td>\n",
       "      <td>5.733798e-16</td>\n",
       "      <td>4.986739e-16</td>\n",
       "      <td>6.127323e-16</td>\n",
       "      <td>3.130812e-16</td>\n",
       "      <td>1.000000e+00</td>\n",
       "      <td>-4.411271e-17</td>\n",
       "      <td>-9.938362e-16</td>\n",
       "      <td>8.848700e-16</td>\n",
       "      <td>5.524044e-16</td>\n",
       "      <td>9.029821e-16</td>\n",
       "      <td>-0.112633</td>\n",
       "      <td>-0.002685</td>\n",
       "    </tr>\n",
       "    <tr>\n",
       "      <td>V24</td>\n",
       "      <td>-0.016182</td>\n",
       "      <td>7.354269e-17</td>\n",
       "      <td>-8.142354e-18</td>\n",
       "      <td>-9.351637e-17</td>\n",
       "      <td>2.229738e-16</td>\n",
       "      <td>-9.286095e-16</td>\n",
       "      <td>-1.261867e-15</td>\n",
       "      <td>-2.589727e-17</td>\n",
       "      <td>-1.802967e-16</td>\n",
       "      <td>-2.346385e-16</td>\n",
       "      <td>-4.032806e-17</td>\n",
       "      <td>1.219849e-15</td>\n",
       "      <td>4.901644e-16</td>\n",
       "      <td>-5.470547e-16</td>\n",
       "      <td>2.335749e-16</td>\n",
       "      <td>-4.589689e-16</td>\n",
       "      <td>-4.289239e-16</td>\n",
       "      <td>-5.543631e-17</td>\n",
       "      <td>-1.126043e-16</td>\n",
       "      <td>3.126716e-17</td>\n",
       "      <td>1.637488e-16</td>\n",
       "      <td>1.298254e-16</td>\n",
       "      <td>1.150829e-17</td>\n",
       "      <td>-4.411271e-17</td>\n",
       "      <td>1.000000e+00</td>\n",
       "      <td>1.557318e-15</td>\n",
       "      <td>3.129195e-16</td>\n",
       "      <td>-3.736529e-16</td>\n",
       "      <td>-2.259275e-16</td>\n",
       "      <td>0.005146</td>\n",
       "      <td>-0.007221</td>\n",
       "    </tr>\n",
       "    <tr>\n",
       "      <td>V25</td>\n",
       "      <td>-0.233083</td>\n",
       "      <td>-9.805358e-16</td>\n",
       "      <td>-4.261894e-17</td>\n",
       "      <td>4.771164e-16</td>\n",
       "      <td>5.394585e-16</td>\n",
       "      <td>5.625102e-16</td>\n",
       "      <td>1.081933e-15</td>\n",
       "      <td>1.174169e-15</td>\n",
       "      <td>-1.390791e-16</td>\n",
       "      <td>1.099645e-15</td>\n",
       "      <td>-2.863813e-16</td>\n",
       "      <td>-4.567635e-16</td>\n",
       "      <td>5.053736e-16</td>\n",
       "      <td>8.066738e-17</td>\n",
       "      <td>-2.606783e-16</td>\n",
       "      <td>3.869740e-16</td>\n",
       "      <td>-6.644104e-16</td>\n",
       "      <td>4.822068e-16</td>\n",
       "      <td>-2.310856e-16</td>\n",
       "      <td>7.415355e-16</td>\n",
       "      <td>-1.518242e-16</td>\n",
       "      <td>-2.826293e-16</td>\n",
       "      <td>-6.078986e-16</td>\n",
       "      <td>-9.938362e-16</td>\n",
       "      <td>1.557318e-15</td>\n",
       "      <td>1.000000e+00</td>\n",
       "      <td>2.810884e-15</td>\n",
       "      <td>-6.107118e-16</td>\n",
       "      <td>3.399375e-16</td>\n",
       "      <td>-0.047837</td>\n",
       "      <td>0.003308</td>\n",
       "    </tr>\n",
       "    <tr>\n",
       "      <td>V26</td>\n",
       "      <td>-0.041407</td>\n",
       "      <td>-8.621897e-17</td>\n",
       "      <td>2.601622e-16</td>\n",
       "      <td>6.521501e-16</td>\n",
       "      <td>-6.179751e-16</td>\n",
       "      <td>9.144690e-16</td>\n",
       "      <td>-2.378414e-16</td>\n",
       "      <td>-7.334507e-16</td>\n",
       "      <td>-1.209975e-16</td>\n",
       "      <td>-1.388725e-15</td>\n",
       "      <td>-2.554293e-16</td>\n",
       "      <td>-1.110976e-16</td>\n",
       "      <td>-5.759321e-16</td>\n",
       "      <td>-2.121518e-16</td>\n",
       "      <td>-6.580254e-18</td>\n",
       "      <td>3.761094e-16</td>\n",
       "      <td>-5.186503e-16</td>\n",
       "      <td>4.870302e-16</td>\n",
       "      <td>3.183964e-16</td>\n",
       "      <td>5.614354e-16</td>\n",
       "      <td>-2.975081e-16</td>\n",
       "      <td>-4.907301e-16</td>\n",
       "      <td>-8.477050e-16</td>\n",
       "      <td>8.848700e-16</td>\n",
       "      <td>3.129195e-16</td>\n",
       "      <td>2.810884e-15</td>\n",
       "      <td>1.000000e+00</td>\n",
       "      <td>-3.383861e-16</td>\n",
       "      <td>-3.751403e-16</td>\n",
       "      <td>-0.003208</td>\n",
       "      <td>0.004455</td>\n",
       "    </tr>\n",
       "    <tr>\n",
       "      <td>V27</td>\n",
       "      <td>-0.005135</td>\n",
       "      <td>3.208233e-17</td>\n",
       "      <td>-4.478472e-16</td>\n",
       "      <td>6.239832e-16</td>\n",
       "      <td>-6.403423e-17</td>\n",
       "      <td>4.465960e-16</td>\n",
       "      <td>-2.623818e-16</td>\n",
       "      <td>-5.886825e-16</td>\n",
       "      <td>1.733633e-16</td>\n",
       "      <td>-2.287414e-16</td>\n",
       "      <td>-3.103239e-16</td>\n",
       "      <td>-2.635827e-16</td>\n",
       "      <td>-2.312619e-16</td>\n",
       "      <td>-4.520414e-16</td>\n",
       "      <td>1.285770e-16</td>\n",
       "      <td>-1.265235e-15</td>\n",
       "      <td>7.820038e-16</td>\n",
       "      <td>8.844373e-16</td>\n",
       "      <td>2.435170e-16</td>\n",
       "      <td>-1.113035e-16</td>\n",
       "      <td>-1.446069e-15</td>\n",
       "      <td>-1.033403e-15</td>\n",
       "      <td>-1.294910e-16</td>\n",
       "      <td>5.524044e-16</td>\n",
       "      <td>-3.736529e-16</td>\n",
       "      <td>-6.107118e-16</td>\n",
       "      <td>-3.383861e-16</td>\n",
       "      <td>1.000000e+00</td>\n",
       "      <td>-3.770124e-16</td>\n",
       "      <td>0.028825</td>\n",
       "      <td>0.017580</td>\n",
       "    </tr>\n",
       "    <tr>\n",
       "      <td>V28</td>\n",
       "      <td>-0.009413</td>\n",
       "      <td>9.820892e-16</td>\n",
       "      <td>-3.676415e-16</td>\n",
       "      <td>7.726948e-16</td>\n",
       "      <td>-5.863664e-17</td>\n",
       "      <td>-3.299167e-16</td>\n",
       "      <td>4.813155e-16</td>\n",
       "      <td>-6.836764e-17</td>\n",
       "      <td>-4.484325e-16</td>\n",
       "      <td>9.146779e-16</td>\n",
       "      <td>-1.515934e-16</td>\n",
       "      <td>-3.091914e-16</td>\n",
       "      <td>7.327446e-16</td>\n",
       "      <td>1.049541e-15</td>\n",
       "      <td>2.503271e-15</td>\n",
       "      <td>-1.063286e-15</td>\n",
       "      <td>8.637186e-16</td>\n",
       "      <td>-2.182692e-16</td>\n",
       "      <td>8.844995e-16</td>\n",
       "      <td>-1.375843e-15</td>\n",
       "      <td>-1.133579e-16</td>\n",
       "      <td>5.132234e-16</td>\n",
       "      <td>-3.021376e-16</td>\n",
       "      <td>9.029821e-16</td>\n",
       "      <td>-2.259275e-16</td>\n",
       "      <td>3.399375e-16</td>\n",
       "      <td>-3.751403e-16</td>\n",
       "      <td>-3.770124e-16</td>\n",
       "      <td>1.000000e+00</td>\n",
       "      <td>0.010258</td>\n",
       "      <td>0.009536</td>\n",
       "    </tr>\n",
       "    <tr>\n",
       "      <td>Amount</td>\n",
       "      <td>-0.010596</td>\n",
       "      <td>-2.277087e-01</td>\n",
       "      <td>-5.314089e-01</td>\n",
       "      <td>-2.108805e-01</td>\n",
       "      <td>9.873167e-02</td>\n",
       "      <td>-3.863563e-01</td>\n",
       "      <td>2.159812e-01</td>\n",
       "      <td>3.973113e-01</td>\n",
       "      <td>-1.030791e-01</td>\n",
       "      <td>-4.424560e-02</td>\n",
       "      <td>-1.015021e-01</td>\n",
       "      <td>1.039770e-04</td>\n",
       "      <td>-9.541802e-03</td>\n",
       "      <td>5.293409e-03</td>\n",
       "      <td>3.375117e-02</td>\n",
       "      <td>-2.985848e-03</td>\n",
       "      <td>-3.909527e-03</td>\n",
       "      <td>7.309042e-03</td>\n",
       "      <td>3.565034e-02</td>\n",
       "      <td>-5.615079e-02</td>\n",
       "      <td>3.394034e-01</td>\n",
       "      <td>1.059989e-01</td>\n",
       "      <td>-6.480065e-02</td>\n",
       "      <td>-1.126326e-01</td>\n",
       "      <td>5.146217e-03</td>\n",
       "      <td>-4.783686e-02</td>\n",
       "      <td>-3.208037e-03</td>\n",
       "      <td>2.882546e-02</td>\n",
       "      <td>1.025822e-02</td>\n",
       "      <td>1.000000</td>\n",
       "      <td>0.005632</td>\n",
       "    </tr>\n",
       "    <tr>\n",
       "      <td>Class</td>\n",
       "      <td>-0.012323</td>\n",
       "      <td>-1.013473e-01</td>\n",
       "      <td>9.128865e-02</td>\n",
       "      <td>-1.929608e-01</td>\n",
       "      <td>1.334475e-01</td>\n",
       "      <td>-9.497430e-02</td>\n",
       "      <td>-4.364316e-02</td>\n",
       "      <td>-1.872566e-01</td>\n",
       "      <td>1.987512e-02</td>\n",
       "      <td>-9.773269e-02</td>\n",
       "      <td>-2.168829e-01</td>\n",
       "      <td>1.548756e-01</td>\n",
       "      <td>-2.605929e-01</td>\n",
       "      <td>-4.569779e-03</td>\n",
       "      <td>-3.025437e-01</td>\n",
       "      <td>-4.223402e-03</td>\n",
       "      <td>-1.965389e-01</td>\n",
       "      <td>-3.264811e-01</td>\n",
       "      <td>-1.114853e-01</td>\n",
       "      <td>3.478301e-02</td>\n",
       "      <td>2.009032e-02</td>\n",
       "      <td>4.041338e-02</td>\n",
       "      <td>8.053175e-04</td>\n",
       "      <td>-2.685156e-03</td>\n",
       "      <td>-7.220907e-03</td>\n",
       "      <td>3.307706e-03</td>\n",
       "      <td>4.455398e-03</td>\n",
       "      <td>1.757973e-02</td>\n",
       "      <td>9.536041e-03</td>\n",
       "      <td>0.005632</td>\n",
       "      <td>1.000000</td>\n",
       "    </tr>\n",
       "  </tbody>\n",
       "</table>\n",
       "</div>"
      ],
      "text/plain": [
       "            Time            V1            V2            V3            V4  \\\n",
       "Time    1.000000  1.173963e-01 -1.059333e-02 -4.196182e-01 -1.052602e-01   \n",
       "V1      0.117396  1.000000e+00  4.697350e-17 -1.424390e-15  1.755316e-17   \n",
       "V2     -0.010593  4.697350e-17  1.000000e+00  2.512175e-16 -1.126388e-16   \n",
       "V3     -0.419618 -1.424390e-15  2.512175e-16  1.000000e+00 -3.416910e-16   \n",
       "V4     -0.105260  1.755316e-17 -1.126388e-16 -3.416910e-16  1.000000e+00   \n",
       "V5      0.173072  6.391162e-17 -2.039868e-16 -1.436514e-15 -1.940929e-15   \n",
       "V6     -0.063016  2.398071e-16  5.024680e-16  1.431581e-15 -2.712659e-16   \n",
       "V7      0.084714  1.991550e-15  3.966486e-16  2.168574e-15  1.556330e-16   \n",
       "V8     -0.036949 -9.490675e-17 -4.413984e-17  3.433113e-16  5.195643e-16   \n",
       "V9     -0.008660  2.169581e-16 -5.728718e-17 -4.233770e-16  3.859585e-16   \n",
       "V10     0.030617  7.433820e-17 -4.782388e-16  6.289267e-16  6.055490e-16   \n",
       "V11    -0.247689  2.438580e-16  9.468995e-16 -5.501758e-17 -2.083600e-16   \n",
       "V12     0.124348  2.422086e-16 -6.588252e-16  2.206522e-16 -5.657963e-16   \n",
       "V13    -0.065902 -2.115458e-16  3.854521e-16 -6.883375e-16 -1.506129e-16   \n",
       "V14    -0.098757  9.352582e-16 -2.541036e-16  4.271336e-16 -8.522435e-17   \n",
       "V15    -0.183453 -3.252451e-16  2.831060e-16  1.122756e-16 -1.507718e-16   \n",
       "V16     0.011903  6.308789e-16  4.934097e-17  1.183364e-15 -6.939204e-16   \n",
       "V17    -0.073297 -5.011524e-16 -9.883008e-16  4.576619e-17 -4.397925e-16   \n",
       "V18     0.090438  2.870125e-16  2.636654e-16  5.427965e-16  1.493667e-16   \n",
       "V19     0.028975  1.818128e-16  9.528280e-17  2.576773e-16 -2.656938e-16   \n",
       "V20    -0.050866  1.036959e-16 -9.309954e-16 -9.429297e-16 -3.223123e-16   \n",
       "V21     0.044736 -1.755072e-16  8.444409e-17 -2.971969e-17 -9.976950e-17   \n",
       "V22     0.144059  7.477367e-17  2.500830e-16  4.648259e-16  2.099922e-16   \n",
       "V23     0.051142  9.808705e-16  1.059562e-16  2.115206e-17  6.002528e-17   \n",
       "V24    -0.016182  7.354269e-17 -8.142354e-18 -9.351637e-17  2.229738e-16   \n",
       "V25    -0.233083 -9.805358e-16 -4.261894e-17  4.771164e-16  5.394585e-16   \n",
       "V26    -0.041407 -8.621897e-17  2.601622e-16  6.521501e-16 -6.179751e-16   \n",
       "V27    -0.005135  3.208233e-17 -4.478472e-16  6.239832e-16 -6.403423e-17   \n",
       "V28    -0.009413  9.820892e-16 -3.676415e-16  7.726948e-16 -5.863664e-17   \n",
       "Amount -0.010596 -2.277087e-01 -5.314089e-01 -2.108805e-01  9.873167e-02   \n",
       "Class  -0.012323 -1.013473e-01  9.128865e-02 -1.929608e-01  1.334475e-01   \n",
       "\n",
       "                  V5            V6            V7            V8            V9  \\\n",
       "Time    1.730721e-01 -6.301647e-02  8.471437e-02 -3.694943e-02 -8.660434e-03   \n",
       "V1      6.391162e-17  2.398071e-16  1.991550e-15 -9.490675e-17  2.169581e-16   \n",
       "V2     -2.039868e-16  5.024680e-16  3.966486e-16 -4.413984e-17 -5.728718e-17   \n",
       "V3     -1.436514e-15  1.431581e-15  2.168574e-15  3.433113e-16 -4.233770e-16   \n",
       "V4     -1.940929e-15 -2.712659e-16  1.556330e-16  5.195643e-16  3.859585e-16   \n",
       "V5      1.000000e+00  7.926364e-16 -4.209851e-16  7.589187e-16  4.205206e-16   \n",
       "V6      7.926364e-16  1.000000e+00  1.429426e-16 -1.707421e-16  1.114447e-16   \n",
       "V7     -4.209851e-16  1.429426e-16  1.000000e+00 -8.691834e-17  7.933251e-16   \n",
       "V8      7.589187e-16 -1.707421e-16 -8.691834e-17  1.000000e+00  2.900829e-16   \n",
       "V9      4.205206e-16  1.114447e-16  7.933251e-16  2.900829e-16  1.000000e+00   \n",
       "V10    -6.601716e-16  2.850776e-16  3.043333e-17  9.051847e-17 -2.771761e-16   \n",
       "V11     7.342759e-16  4.865799e-16 -1.084105e-15  1.954747e-16  4.682341e-16   \n",
       "V12     3.761033e-16  2.140589e-16  1.510045e-15 -6.266057e-17 -2.445230e-15   \n",
       "V13    -9.578659e-16 -2.268061e-16 -9.892325e-17 -2.382948e-16 -2.650351e-16   \n",
       "V14    -3.634803e-16  3.452801e-16 -1.729462e-16 -1.131098e-16  2.343317e-16   \n",
       "V15    -5.132620e-16 -6.368111e-18  1.936832e-17  2.021491e-16 -1.588105e-15   \n",
       "V16    -3.517076e-16 -2.477917e-16  2.893672e-16  5.027192e-16 -3.251906e-16   \n",
       "V17     1.425729e-16  3.567582e-16  1.149692e-15 -3.508777e-16  6.535992e-16   \n",
       "V18     1.109525e-15  2.811474e-16 -1.116789e-16 -4.093852e-16  1.203843e-16   \n",
       "V19    -3.138234e-16  2.717167e-16 -2.874017e-16 -5.339821e-16  1.120752e-16   \n",
       "V20     2.076048e-16  1.898638e-16  1.744242e-16 -1.095534e-16 -4.340941e-16   \n",
       "V21    -1.368701e-16 -1.575903e-16  1.938604e-16 -2.412439e-16  4.578389e-17   \n",
       "V22     5.060029e-16 -3.362902e-16 -1.058131e-15  5.475559e-16  2.871855e-17   \n",
       "V23     1.637596e-16 -7.232186e-17  2.327911e-16  3.897104e-16  5.929286e-16   \n",
       "V24    -9.286095e-16 -1.261867e-15 -2.589727e-17 -1.802967e-16 -2.346385e-16   \n",
       "V25     5.625102e-16  1.081933e-15  1.174169e-15 -1.390791e-16  1.099645e-15   \n",
       "V26     9.144690e-16 -2.378414e-16 -7.334507e-16 -1.209975e-16 -1.388725e-15   \n",
       "V27     4.465960e-16 -2.623818e-16 -5.886825e-16  1.733633e-16 -2.287414e-16   \n",
       "V28    -3.299167e-16  4.813155e-16 -6.836764e-17 -4.484325e-16  9.146779e-16   \n",
       "Amount -3.863563e-01  2.159812e-01  3.973113e-01 -1.030791e-01 -4.424560e-02   \n",
       "Class  -9.497430e-02 -4.364316e-02 -1.872566e-01  1.987512e-02 -9.773269e-02   \n",
       "\n",
       "                 V10           V11           V12           V13           V14  \\\n",
       "Time    3.061663e-02 -2.476894e-01  1.243481e-01 -6.590202e-02 -9.875682e-02   \n",
       "V1      7.433820e-17  2.438580e-16  2.422086e-16 -2.115458e-16  9.352582e-16   \n",
       "V2     -4.782388e-16  9.468995e-16 -6.588252e-16  3.854521e-16 -2.541036e-16   \n",
       "V3      6.289267e-16 -5.501758e-17  2.206522e-16 -6.883375e-16  4.271336e-16   \n",
       "V4      6.055490e-16 -2.083600e-16 -5.657963e-16 -1.506129e-16 -8.522435e-17   \n",
       "V5     -6.601716e-16  7.342759e-16  3.761033e-16 -9.578659e-16 -3.634803e-16   \n",
       "V6      2.850776e-16  4.865799e-16  2.140589e-16 -2.268061e-16  3.452801e-16   \n",
       "V7      3.043333e-17 -1.084105e-15  1.510045e-15 -9.892325e-17 -1.729462e-16   \n",
       "V8      9.051847e-17  1.954747e-16 -6.266057e-17 -2.382948e-16 -1.131098e-16   \n",
       "V9     -2.771761e-16  4.682341e-16 -2.445230e-15 -2.650351e-16  2.343317e-16   \n",
       "V10     1.000000e+00  2.624448e-16  1.439907e-15 -8.853582e-16  2.622513e-16   \n",
       "V11     2.624448e-16  1.000000e+00  3.176029e-15  1.945810e-15  3.637160e-17   \n",
       "V12     1.439907e-15  3.176029e-15  1.000000e+00 -2.306149e-14  1.761652e-16   \n",
       "V13    -8.853582e-16  1.945810e-15 -2.306149e-14  1.000000e+00  2.841428e-15   \n",
       "V14     2.622513e-16  3.637160e-17  1.761652e-16  2.841428e-15  1.000000e+00   \n",
       "V15     7.615272e-16  4.801345e-16  8.858186e-16 -4.728048e-16  4.165738e-17   \n",
       "V16    -1.705923e-15 -6.173867e-16  3.530418e-16  3.361767e-16  7.910367e-17   \n",
       "V17     3.674182e-15  8.719713e-16 -9.869814e-16 -3.187905e-16  4.626140e-15   \n",
       "V18     3.986710e-16  5.978229e-16 -5.881814e-16  3.192535e-16  8.980955e-17   \n",
       "V19     2.663038e-17  3.216338e-16  9.282566e-17 -2.594988e-16 -1.061486e-16   \n",
       "V20    -1.141888e-15 -2.310189e-16  1.276976e-16  2.345665e-18 -1.789433e-16   \n",
       "V21     8.089504e-16 -3.911893e-16  3.229576e-16  9.499130e-17  1.634141e-17   \n",
       "V22    -6.707598e-16 -3.811640e-17 -5.903992e-16 -2.659710e-17  3.439699e-16   \n",
       "V23     3.809732e-16  2.232007e-16  1.392162e-16 -5.884304e-16  7.620728e-17   \n",
       "V24    -4.032806e-17  1.219849e-15  4.901644e-16 -5.470547e-16  2.335749e-16   \n",
       "V25    -2.863813e-16 -4.567635e-16  5.053736e-16  8.066738e-17 -2.606783e-16   \n",
       "V26    -2.554293e-16 -1.110976e-16 -5.759321e-16 -2.121518e-16 -6.580254e-18   \n",
       "V27    -3.103239e-16 -2.635827e-16 -2.312619e-16 -4.520414e-16  1.285770e-16   \n",
       "V28    -1.515934e-16 -3.091914e-16  7.327446e-16  1.049541e-15  2.503271e-15   \n",
       "Amount -1.015021e-01  1.039770e-04 -9.541802e-03  5.293409e-03  3.375117e-02   \n",
       "Class  -2.168829e-01  1.548756e-01 -2.605929e-01 -4.569779e-03 -3.025437e-01   \n",
       "\n",
       "                 V15           V16           V17           V18           V19  \\\n",
       "Time   -1.834533e-01  1.190287e-02 -7.329721e-02  9.043813e-02  2.897530e-02   \n",
       "V1     -3.252451e-16  6.308789e-16 -5.011524e-16  2.870125e-16  1.818128e-16   \n",
       "V2      2.831060e-16  4.934097e-17 -9.883008e-16  2.636654e-16  9.528280e-17   \n",
       "V3      1.122756e-16  1.183364e-15  4.576619e-17  5.427965e-16  2.576773e-16   \n",
       "V4     -1.507718e-16 -6.939204e-16 -4.397925e-16  1.493667e-16 -2.656938e-16   \n",
       "V5     -5.132620e-16 -3.517076e-16  1.425729e-16  1.109525e-15 -3.138234e-16   \n",
       "V6     -6.368111e-18 -2.477917e-16  3.567582e-16  2.811474e-16  2.717167e-16   \n",
       "V7      1.936832e-17  2.893672e-16  1.149692e-15 -1.116789e-16 -2.874017e-16   \n",
       "V8      2.021491e-16  5.027192e-16 -3.508777e-16 -4.093852e-16 -5.339821e-16   \n",
       "V9     -1.588105e-15 -3.251906e-16  6.535992e-16  1.203843e-16  1.120752e-16   \n",
       "V10     7.615272e-16 -1.705923e-15  3.674182e-15  3.986710e-16  2.663038e-17   \n",
       "V11     4.801345e-16 -6.173867e-16  8.719713e-16  5.978229e-16  3.216338e-16   \n",
       "V12     8.858186e-16  3.530418e-16 -9.869814e-16 -5.881814e-16  9.282566e-17   \n",
       "V13    -4.728048e-16  3.361767e-16 -3.187905e-16  3.192535e-16 -2.594988e-16   \n",
       "V14     4.165738e-17  7.910367e-17  4.626140e-15  8.980955e-17 -1.061486e-16   \n",
       "V15     1.000000e+00  1.335904e-15  3.208310e-16  7.538156e-16 -8.556257e-16   \n",
       "V16     1.335904e-15  1.000000e+00  1.854297e-15 -3.015119e-15  1.041659e-15   \n",
       "V17     3.208310e-16  1.854297e-15  1.000000e+00 -5.584714e-15 -3.916791e-16   \n",
       "V18     7.538156e-16 -3.015119e-15 -5.584714e-15  1.000000e+00 -2.424185e-15   \n",
       "V19    -8.556257e-16  1.041659e-15 -3.916791e-16 -2.424185e-15  1.000000e+00   \n",
       "V20     3.240475e-16  3.903456e-16 -9.887431e-16 -4.942764e-16  2.938450e-16   \n",
       "V21     1.947458e-17 -3.927401e-16 -7.753967e-16 -1.140973e-15  4.032541e-16   \n",
       "V22    -8.936817e-16  3.878384e-17 -8.389703e-16 -8.662635e-17 -9.690436e-16   \n",
       "V23     1.119827e-16  8.519670e-16  5.367784e-16 -3.624236e-16  5.733798e-16   \n",
       "V24    -4.589689e-16 -4.289239e-16 -5.543631e-17 -1.126043e-16  3.126716e-17   \n",
       "V25     3.869740e-16 -6.644104e-16  4.822068e-16 -2.310856e-16  7.415355e-16   \n",
       "V26     3.761094e-16 -5.186503e-16  4.870302e-16  3.183964e-16  5.614354e-16   \n",
       "V27    -1.265235e-15  7.820038e-16  8.844373e-16  2.435170e-16 -1.113035e-16   \n",
       "V28    -1.063286e-15  8.637186e-16 -2.182692e-16  8.844995e-16 -1.375843e-15   \n",
       "Amount -2.985848e-03 -3.909527e-03  7.309042e-03  3.565034e-02 -5.615079e-02   \n",
       "Class  -4.223402e-03 -1.965389e-01 -3.264811e-01 -1.114853e-01  3.478301e-02   \n",
       "\n",
       "                 V20           V21           V22           V23           V24  \\\n",
       "Time   -5.086602e-02  4.473573e-02  1.440591e-01  5.114236e-02 -1.618187e-02   \n",
       "V1      1.036959e-16 -1.755072e-16  7.477367e-17  9.808705e-16  7.354269e-17   \n",
       "V2     -9.309954e-16  8.444409e-17  2.500830e-16  1.059562e-16 -8.142354e-18   \n",
       "V3     -9.429297e-16 -2.971969e-17  4.648259e-16  2.115206e-17 -9.351637e-17   \n",
       "V4     -3.223123e-16 -9.976950e-17  2.099922e-16  6.002528e-17  2.229738e-16   \n",
       "V5      2.076048e-16 -1.368701e-16  5.060029e-16  1.637596e-16 -9.286095e-16   \n",
       "V6      1.898638e-16 -1.575903e-16 -3.362902e-16 -7.232186e-17 -1.261867e-15   \n",
       "V7      1.744242e-16  1.938604e-16 -1.058131e-15  2.327911e-16 -2.589727e-17   \n",
       "V8     -1.095534e-16 -2.412439e-16  5.475559e-16  3.897104e-16 -1.802967e-16   \n",
       "V9     -4.340941e-16  4.578389e-17  2.871855e-17  5.929286e-16 -2.346385e-16   \n",
       "V10    -1.141888e-15  8.089504e-16 -6.707598e-16  3.809732e-16 -4.032806e-17   \n",
       "V11    -2.310189e-16 -3.911893e-16 -3.811640e-17  2.232007e-16  1.219849e-15   \n",
       "V12     1.276976e-16  3.229576e-16 -5.903992e-16  1.392162e-16  4.901644e-16   \n",
       "V13     2.345665e-18  9.499130e-17 -2.659710e-17 -5.884304e-16 -5.470547e-16   \n",
       "V14    -1.789433e-16  1.634141e-17  3.439699e-16  7.620728e-17  2.335749e-16   \n",
       "V15     3.240475e-16  1.947458e-17 -8.936817e-16  1.119827e-16 -4.589689e-16   \n",
       "V16     3.903456e-16 -3.927401e-16  3.878384e-17  8.519670e-16 -4.289239e-16   \n",
       "V17    -9.887431e-16 -7.753967e-16 -8.389703e-16  5.367784e-16 -5.543631e-17   \n",
       "V18    -4.942764e-16 -1.140973e-15 -8.662635e-17 -3.624236e-16 -1.126043e-16   \n",
       "V19     2.938450e-16  4.032541e-16 -9.690436e-16  5.733798e-16  3.126716e-17   \n",
       "V20     1.000000e+00 -1.120828e-15  1.105842e-15  4.986739e-16  1.637488e-16   \n",
       "V21    -1.120828e-15  1.000000e+00  3.905948e-15  6.127323e-16  1.298254e-16   \n",
       "V22     1.105842e-15  3.905948e-15  1.000000e+00  3.130812e-16  1.150829e-17   \n",
       "V23     4.986739e-16  6.127323e-16  3.130812e-16  1.000000e+00 -4.411271e-17   \n",
       "V24     1.637488e-16  1.298254e-16  1.150829e-17 -4.411271e-17  1.000000e+00   \n",
       "V25    -1.518242e-16 -2.826293e-16 -6.078986e-16 -9.938362e-16  1.557318e-15   \n",
       "V26    -2.975081e-16 -4.907301e-16 -8.477050e-16  8.848700e-16  3.129195e-16   \n",
       "V27    -1.446069e-15 -1.033403e-15 -1.294910e-16  5.524044e-16 -3.736529e-16   \n",
       "V28    -1.133579e-16  5.132234e-16 -3.021376e-16  9.029821e-16 -2.259275e-16   \n",
       "Amount  3.394034e-01  1.059989e-01 -6.480065e-02 -1.126326e-01  5.146217e-03   \n",
       "Class   2.009032e-02  4.041338e-02  8.053175e-04 -2.685156e-03 -7.220907e-03   \n",
       "\n",
       "                 V25           V26           V27           V28    Amount  \\\n",
       "Time   -2.330828e-01 -4.140710e-02 -5.134591e-03 -9.412688e-03 -0.010596   \n",
       "V1     -9.805358e-16 -8.621897e-17  3.208233e-17  9.820892e-16 -0.227709   \n",
       "V2     -4.261894e-17  2.601622e-16 -4.478472e-16 -3.676415e-16 -0.531409   \n",
       "V3      4.771164e-16  6.521501e-16  6.239832e-16  7.726948e-16 -0.210880   \n",
       "V4      5.394585e-16 -6.179751e-16 -6.403423e-17 -5.863664e-17  0.098732   \n",
       "V5      5.625102e-16  9.144690e-16  4.465960e-16 -3.299167e-16 -0.386356   \n",
       "V6      1.081933e-15 -2.378414e-16 -2.623818e-16  4.813155e-16  0.215981   \n",
       "V7      1.174169e-15 -7.334507e-16 -5.886825e-16 -6.836764e-17  0.397311   \n",
       "V8     -1.390791e-16 -1.209975e-16  1.733633e-16 -4.484325e-16 -0.103079   \n",
       "V9      1.099645e-15 -1.388725e-15 -2.287414e-16  9.146779e-16 -0.044246   \n",
       "V10    -2.863813e-16 -2.554293e-16 -3.103239e-16 -1.515934e-16 -0.101502   \n",
       "V11    -4.567635e-16 -1.110976e-16 -2.635827e-16 -3.091914e-16  0.000104   \n",
       "V12     5.053736e-16 -5.759321e-16 -2.312619e-16  7.327446e-16 -0.009542   \n",
       "V13     8.066738e-17 -2.121518e-16 -4.520414e-16  1.049541e-15  0.005293   \n",
       "V14    -2.606783e-16 -6.580254e-18  1.285770e-16  2.503271e-15  0.033751   \n",
       "V15     3.869740e-16  3.761094e-16 -1.265235e-15 -1.063286e-15 -0.002986   \n",
       "V16    -6.644104e-16 -5.186503e-16  7.820038e-16  8.637186e-16 -0.003910   \n",
       "V17     4.822068e-16  4.870302e-16  8.844373e-16 -2.182692e-16  0.007309   \n",
       "V18    -2.310856e-16  3.183964e-16  2.435170e-16  8.844995e-16  0.035650   \n",
       "V19     7.415355e-16  5.614354e-16 -1.113035e-16 -1.375843e-15 -0.056151   \n",
       "V20    -1.518242e-16 -2.975081e-16 -1.446069e-15 -1.133579e-16  0.339403   \n",
       "V21    -2.826293e-16 -4.907301e-16 -1.033403e-15  5.132234e-16  0.105999   \n",
       "V22    -6.078986e-16 -8.477050e-16 -1.294910e-16 -3.021376e-16 -0.064801   \n",
       "V23    -9.938362e-16  8.848700e-16  5.524044e-16  9.029821e-16 -0.112633   \n",
       "V24     1.557318e-15  3.129195e-16 -3.736529e-16 -2.259275e-16  0.005146   \n",
       "V25     1.000000e+00  2.810884e-15 -6.107118e-16  3.399375e-16 -0.047837   \n",
       "V26     2.810884e-15  1.000000e+00 -3.383861e-16 -3.751403e-16 -0.003208   \n",
       "V27    -6.107118e-16 -3.383861e-16  1.000000e+00 -3.770124e-16  0.028825   \n",
       "V28     3.399375e-16 -3.751403e-16 -3.770124e-16  1.000000e+00  0.010258   \n",
       "Amount -4.783686e-02 -3.208037e-03  2.882546e-02  1.025822e-02  1.000000   \n",
       "Class   3.307706e-03  4.455398e-03  1.757973e-02  9.536041e-03  0.005632   \n",
       "\n",
       "           Class  \n",
       "Time   -0.012323  \n",
       "V1     -0.101347  \n",
       "V2      0.091289  \n",
       "V3     -0.192961  \n",
       "V4      0.133447  \n",
       "V5     -0.094974  \n",
       "V6     -0.043643  \n",
       "V7     -0.187257  \n",
       "V8      0.019875  \n",
       "V9     -0.097733  \n",
       "V10    -0.216883  \n",
       "V11     0.154876  \n",
       "V12    -0.260593  \n",
       "V13    -0.004570  \n",
       "V14    -0.302544  \n",
       "V15    -0.004223  \n",
       "V16    -0.196539  \n",
       "V17    -0.326481  \n",
       "V18    -0.111485  \n",
       "V19     0.034783  \n",
       "V20     0.020090  \n",
       "V21     0.040413  \n",
       "V22     0.000805  \n",
       "V23    -0.002685  \n",
       "V24    -0.007221  \n",
       "V25     0.003308  \n",
       "V26     0.004455  \n",
       "V27     0.017580  \n",
       "V28     0.009536  \n",
       "Amount  0.005632  \n",
       "Class   1.000000  "
      ]
     },
     "execution_count": 14,
     "metadata": {},
     "output_type": "execute_result"
    }
   ],
   "source": [
    "#check correlation of features with target here (Class)\n",
    "# 0.5 to 1 means good positive correlation\n",
    "#-0.5 to -1 means good negative correlation\n",
    "df.corr() #inbuilt method"
   ]
  },
  {
   "cell_type": "code",
   "execution_count": 15,
   "metadata": {},
   "outputs": [
    {
     "data": {
      "image/png": "[encoded data removed]",
      "text/plain": [
       "<Figure size 1800x1800 with 2 Axes>"
      ]
     },
     "metadata": {
      "needs_background": "light"
     },
     "output_type": "display_data"
    }
   ],
   "source": [
    "#visulise\n",
    "plt.figure(figsize=(25,25))\n",
    "sns.heatmap(df.corr().round(2),annot=True)\n",
    "plt.show()"
   ]
  },
  {
   "cell_type": "markdown",
   "metadata": {},
   "source": [
    "### In the HeatMap we can clearly see that most of the features do not correlate to other features but there are some features that either has a positive or a negative correlation with each other\n",
    "### V2 and V5 are highly negatively correlated with the feature called Amount. We also see some positive correlation with V7,V20 and Amount"
   ]
  },
  {
   "cell_type": "code",
   "execution_count": 16,
   "metadata": {},
   "outputs": [],
   "source": [
    "#correlation between Amount and V2 iS -0.53 good negative corr\n",
    "#correlation between Amount and V5 iS -0.39 negative corr\n",
    "#correlation between Amount and V7 iS 0.4 positive corr\n",
    "#correlation between Amount and V20 iS 0.34 positive corr\n",
    "\n"
   ]
  },
  {
   "cell_type": "code",
   "execution_count": 17,
   "metadata": {},
   "outputs": [],
   "source": [
    "#separate Independent variable(input variable) X and dependent variable \n",
    "#Y(target/output)\n",
    "X=df.drop(\"Class\",axis=1) #to store all inputs hold in X variable apart from\n",
    "#deposit\n",
    "Y=df[\"Class\"]"
   ]
  },
  {
   "cell_type": "code",
   "execution_count": 18,
   "metadata": {},
   "outputs": [],
   "source": [
    "#Split our dataset in train test of 70% & 30%\n",
    "from sklearn.model_selection import train_test_split\n",
    "\n",
    "X_train,X_test,Y_train,Y_test=train_test_split(X,Y,test_size=.3,random_state=1)"
   ]
  },
  {
   "cell_type": "code",
   "execution_count": 19,
   "metadata": {},
   "outputs": [],
   "source": [
    "#create function so we can train our model with different diffirent algorithm to get best of it\n",
    "def create_model(model):\n",
    "    model.fit(X_train,Y_train)\n",
    "    Y_pred=model.predict(X_test)\n",
    "    print(classification_report(Y_test,Y_pred))\n",
    "    print(\"Confusion_matrix:\")\n",
    "    print(confusion_matrix(Y_test,Y_pred))\n",
    "    return model\n"
   ]
  },
  {
   "cell_type": "code",
   "execution_count": 20,
   "metadata": {},
   "outputs": [],
   "source": [
    "from sklearn.metrics import classification_report,confusion_matrix\n",
    "from sklearn.linear_model import LogisticRegression\n"
   ]
  },
  {
   "cell_type": "code",
   "execution_count": 21,
   "metadata": {},
   "outputs": [
    {
     "name": "stdout",
     "output_type": "stream",
     "text": [
      "              precision    recall  f1-score   support\n",
      "\n",
      "           0       1.00      1.00      1.00     85308\n",
      "           1       0.71      0.62      0.66       135\n",
      "\n",
      "    accuracy                           1.00     85443\n",
      "   macro avg       0.85      0.81      0.83     85443\n",
      "weighted avg       1.00      1.00      1.00     85443\n",
      "\n",
      "Confusion_matrix:\n",
      "[[85273    35]\n",
      " [   51    84]]\n"
     ]
    }
   ],
   "source": [
    "#first train the model with basic algorithm LogisticRegression\n",
    "#create object of LogisticRegression\n",
    "lr=LogisticRegression()\n",
    "\n",
    "#call function\n",
    "lr=create_model(lr)\n"
   ]
  },
  {
   "cell_type": "code",
   "execution_count": 22,
   "metadata": {},
   "outputs": [],
   "source": [
    "#now we use RandomForestClassifier which better than simple decision tree\n",
    "from sklearn.ensemble import RandomForestClassifier"
   ]
  },
  {
   "cell_type": "code",
   "execution_count": 23,
   "metadata": {},
   "outputs": [],
   "source": [
    "#create object of RandomForestClassifier\n",
    "rfc=RandomForestClassifier(n_estimators=45,max_features=4,random_state=1)\n",
    "#n_estimators number of 45 and max_features=4\n",
    "#it create 45 decision tree with this 5 feature and take average of it to predict model\n"
   ]
  },
  {
   "cell_type": "code",
   "execution_count": 24,
   "metadata": {},
   "outputs": [
    {
     "name": "stdout",
     "output_type": "stream",
     "text": [
      "              precision    recall  f1-score   support\n",
      "\n",
      "           0       1.00      1.00      1.00     85308\n",
      "           1       0.91      0.76      0.83       135\n",
      "\n",
      "    accuracy                           1.00     85443\n",
      "   macro avg       0.96      0.88      0.92     85443\n",
      "weighted avg       1.00      1.00      1.00     85443\n",
      "\n",
      "Confusion_matrix:\n",
      "[[85298    10]\n",
      " [   32   103]]\n"
     ]
    },
    {
     "data": {
      "text/plain": [
       "RandomForestClassifier(max_features=4, n_estimators=45, random_state=1)"
      ]
     },
     "execution_count": 24,
     "metadata": {},
     "output_type": "execute_result"
    }
   ],
   "source": [
    "#call function\n",
    "create_model(rfc)"
   ]
  },
  {
   "cell_type": "code",
   "execution_count": 25,
   "metadata": {},
   "outputs": [],
   "source": [
    "from sklearn.ensemble import GradientBoostingClassifier\n",
    "gbc=GradientBoostingClassifier(n_estimators=30)"
   ]
  },
  {
   "cell_type": "code",
   "execution_count": 26,
   "metadata": {},
   "outputs": [
    {
     "name": "stdout",
     "output_type": "stream",
     "text": [
      "              precision    recall  f1-score   support\n",
      "\n",
      "           0       1.00      1.00      1.00     85308\n",
      "           1       0.67      0.21      0.33       135\n",
      "\n",
      "    accuracy                           1.00     85443\n",
      "   macro avg       0.84      0.61      0.66     85443\n",
      "weighted avg       1.00      1.00      1.00     85443\n",
      "\n",
      "Confusion_matrix:\n",
      "[[85294    14]\n",
      " [  106    29]]\n"
     ]
    },
    {
     "data": {
      "text/plain": [
       "GradientBoostingClassifier(n_estimators=30)"
      ]
     },
     "execution_count": 26,
     "metadata": {},
     "output_type": "execute_result"
    }
   ],
   "source": [
    "create_model(gbc)"
   ]
  },
  {
   "cell_type": "code",
   "execution_count": 27,
   "metadata": {},
   "outputs": [],
   "source": [
    "from xgboost import XGBClassifier\n",
    "xgb=XGBClassifier(n_estimators=30,reg_alpha=1)\n",
    "#reg_alpha =1 it is\n",
    "#automatic handle overfitting situation alpha or lambda means hyperparameter\n",
    "#and handle the outlier automatic\n",
    "#n_estimators=100 means no. of iterations can be <=100\n"
   ]
  },
  {
   "cell_type": "code",
   "execution_count": 28,
   "metadata": {},
   "outputs": [
    {
     "name": "stdout",
     "output_type": "stream",
     "text": [
      "[18:45:24] WARNING: C:/Users/Administrator/workspace/xgboost-win64_release_1.3.0/src/learner.cc:1061: Starting in XGBoost 1.3.0, the default evaluation metric used with the objective 'binary:logistic' was changed from 'error' to 'logloss'. Explicitly set eval_metric if you'd like to restore the old behavior.\n",
      "              precision    recall  f1-score   support\n",
      "\n",
      "           0       1.00      1.00      1.00     85308\n",
      "           1       0.92      0.79      0.85       135\n",
      "\n",
      "    accuracy                           1.00     85443\n",
      "   macro avg       0.96      0.89      0.92     85443\n",
      "weighted avg       1.00      1.00      1.00     85443\n",
      "\n",
      "Confusion_matrix:\n",
      "[[85299     9]\n",
      " [   29   106]]\n"
     ]
    },
    {
     "data": {
      "text/plain": [
       "XGBClassifier(base_score=0.5, booster='gbtree', colsample_bylevel=1,\n",
       "              colsample_bynode=1, colsample_bytree=1, gamma=0, gpu_id=-1,\n",
       "              importance_type='gain', interaction_constraints='',\n",
       "              learning_rate=0.300000012, max_delta_step=0, max_depth=6,\n",
       "              min_child_weight=1, missing=nan, monotone_constraints='()',\n",
       "              n_estimators=30, n_jobs=4, num_parallel_tree=1, random_state=0,\n",
       "              reg_alpha=1, reg_lambda=1, scale_pos_weight=1, subsample=1,\n",
       "              tree_method='exact', validate_parameters=1, verbosity=None)"
      ]
     },
     "execution_count": 28,
     "metadata": {},
     "output_type": "execute_result"
    }
   ],
   "source": [
    "create_model(xgb)"
   ]
  },
  {
   "cell_type": "markdown",
   "metadata": {},
   "source": [
    "## by using extream boost classifier we get good F1 score as comapred to other model without balancing the dataset\n"
   ]
  },
  {
   "cell_type": "markdown",
   "metadata": {},
   "source": [
    "## now we first balance the dataset and then train the model\n",
    "### for balancing dataset we need imblearn package but currently we dont have access to this package \n",
    "### so further model training we do on googlecolab\n"
   ]
  },
  {
   "cell_type": "code",
   "execution_count": 29,
   "metadata": {},
   "outputs": [],
   "source": [
    "#Here No : Majority class   and yes : Minority class  means data is imbalance\n",
    "#so we have to balance the output variable\n",
    "# to Balance the target variable then used sampling technique : -\n",
    "#There are 2 types of sampling technique : -\n",
    "# 1. Random Under Sampling\n",
    "# 2. Random over sampling"
   ]
  },
  {
   "cell_type": "code",
   "execution_count": 30,
   "metadata": {},
   "outputs": [],
   "source": [
    "#First install imblearn  inbuilt package of python but not installed in juypter notebook\n",
    "#we install the package imblearn  for sampling technique\n",
    "#!pip install imblearn"
   ]
  },
  {
   "cell_type": "code",
   "execution_count": 31,
   "metadata": {},
   "outputs": [],
   "source": [
    "#!pip install imblearn"
   ]
  },
  {
   "cell_type": "markdown",
   "metadata": {},
   "source": [
    "<b>If you have basically reducing the majority class that is known as Under sampling and if you are increasing the minority class that is known as over sampling</b>"
   ]
  },
  {
   "cell_type": "code",
   "execution_count": 32,
   "metadata": {},
   "outputs": [],
   "source": [
    "#If you have basically reducing the majority class that is known as Under sampling \n",
    "from imblearn.under_sampling import RandomUnderSampler"
   ]
  },
  {
   "cell_type": "code",
   "execution_count": 33,
   "metadata": {},
   "outputs": [],
   "source": [
    "#if converts majority class to minority class  then use RandomUnderSampler \n",
    "#Here in this dataset : Majority class : No  and Minority class : Yes\n",
    "#create object of  RandomUnderSampler() class\n",
    "rus=RandomUnderSampler()"
   ]
  },
  {
   "cell_type": "code",
   "execution_count": 34,
   "metadata": {},
   "outputs": [
    {
     "data": {
      "text/plain": [
       "0    199007\n",
       "1       357\n",
       "Name: Class, dtype: int64"
      ]
     },
     "execution_count": 34,
     "metadata": {},
     "output_type": "execute_result"
    }
   ],
   "source": [
    "#we have target : 70% : Y_train means training data and 30# : Y_test means testing data\n",
    "pd.Series(Y_train).value_counts()"
   ]
  },
  {
   "cell_type": "code",
   "execution_count": 35,
   "metadata": {},
   "outputs": [],
   "source": [
    "#fit_sample() inbuilt function which define RandomUnderSampler class and pass training data\n",
    "#we have X_train and Y_train (70%)\n",
    "X_sample_train,Y_sample_train = rus.fit_resample(X_train,Y_train) "
   ]
  },
  {
   "cell_type": "code",
   "execution_count": 36,
   "metadata": {},
   "outputs": [
    {
     "data": {
      "text/plain": [
       "1    357\n",
       "0    357\n",
       "Name: Class, dtype: int64"
      ]
     },
     "execution_count": 36,
     "metadata": {},
     "output_type": "execute_result"
    }
   ],
   "source": [
    "#check \n",
    "pd.Series(Y_sample_train).value_counts()"
   ]
  },
  {
   "cell_type": "code",
   "execution_count": 37,
   "metadata": {},
   "outputs": [
    {
     "data": {
      "text/plain": [
       "0    85308\n",
       "1      135\n",
       "Name: Class, dtype: int64"
      ]
     },
     "execution_count": 37,
     "metadata": {},
     "output_type": "execute_result"
    }
   ],
   "source": [
    "#Testing data 30% \n",
    "pd.Series(Y_test).value_counts() #this is unbalance "
   ]
  },
  {
   "cell_type": "code",
   "execution_count": 38,
   "metadata": {},
   "outputs": [],
   "source": [
    "#fit_sample() inbuilt function which define RandomUnderSampler class and pass testing data\n",
    "#we have X_test and Y_test (70%)\n",
    "X_sample_test,Y_sample_test = rus.fit_resample(X_test,Y_test) "
   ]
  },
  {
   "cell_type": "code",
   "execution_count": 39,
   "metadata": {},
   "outputs": [
    {
     "data": {
      "text/plain": [
       "1    135\n",
       "0    135\n",
       "Name: Class, dtype: int64"
      ]
     },
     "execution_count": 39,
     "metadata": {},
     "output_type": "execute_result"
    }
   ],
   "source": [
    "#Testing data 30% \n",
    "pd.Series(Y_sample_test).value_counts() #this is unbalance "
   ]
  },
  {
   "cell_type": "code",
   "execution_count": 40,
   "metadata": {},
   "outputs": [],
   "source": [
    "#we train the model with the help og Logistic regression after apply randomundersampler\n",
    "#we create the object of Logistic Regression class\n",
    "lr=LogisticRegression()"
   ]
  },
  {
   "cell_type": "code",
   "execution_count": 41,
   "metadata": {},
   "outputs": [],
   "source": [
    "#train : use fit()\n",
    "#test : predict()\n",
    "#classification problem : report generate : use classification_report()\n",
    "#user defined function create\n",
    "def create_model1(model):\n",
    "    model.fit(X_sample_train,Y_sample_train)#we train the model\n",
    "    y_pred=model.predict(X_sample_test) #test\n",
    "    print(classification_report(Y_sample_test,y_pred))\n",
    "    print(\"Confusion Matrix : \")\n",
    "    print(confusion_matrix(Y_sample_test,y_pred))\n",
    "    return model"
   ]
  },
  {
   "cell_type": "code",
   "execution_count": 42,
   "metadata": {},
   "outputs": [
    {
     "name": "stdout",
     "output_type": "stream",
     "text": [
      "              precision    recall  f1-score   support\n",
      "\n",
      "           0       0.90      0.96      0.93       135\n",
      "           1       0.96      0.89      0.92       135\n",
      "\n",
      "    accuracy                           0.93       270\n",
      "   macro avg       0.93      0.93      0.93       270\n",
      "weighted avg       0.93      0.93      0.93       270\n",
      "\n",
      "Confusion Matrix : \n",
      "[[130   5]\n",
      " [ 15 120]]\n"
     ]
    },
    {
     "data": {
      "text/plain": [
       "LogisticRegression()"
      ]
     },
     "execution_count": 42,
     "metadata": {},
     "output_type": "execute_result"
    }
   ],
   "source": [
    "\n",
    "#call function\n",
    "create_model1(lr)"
   ]
  },
  {
   "cell_type": "code",
   "execution_count": 43,
   "metadata": {},
   "outputs": [],
   "source": [
    "#Apply decisionTreeClassifier : this is select algorithm of classification ,Its help to select imp\n",
    "#features to predict the o/p , not done manually data analysis to slect imp features\n",
    "from sklearn.tree import DecisionTreeClassifier"
   ]
  },
  {
   "cell_type": "code",
   "execution_count": 44,
   "metadata": {},
   "outputs": [
    {
     "name": "stdout",
     "output_type": "stream",
     "text": [
      "              precision    recall  f1-score   support\n",
      "\n",
      "           0       0.89      0.96      0.92       135\n",
      "           1       0.95      0.88      0.92       135\n",
      "\n",
      "    accuracy                           0.92       270\n",
      "   macro avg       0.92      0.92      0.92       270\n",
      "weighted avg       0.92      0.92      0.92       270\n",
      "\n",
      "Confusion Matrix : \n",
      "[[129   6]\n",
      " [ 16 119]]\n"
     ]
    }
   ],
   "source": [
    "#create the object of DecisionTreeClassifier class\n",
    "dt1=DecisionTreeClassifier(max_depth=6) #by default gini index method to select imp features\n",
    "\n",
    "#call function create_model1\n",
    "dt1=create_model1(dt1)"
   ]
  },
  {
   "cell_type": "code",
   "execution_count": 45,
   "metadata": {},
   "outputs": [
    {
     "data": {
      "text/plain": [
       "array([0.        , 0.        , 0.0093842 , 0.        , 0.04753932,\n",
       "       0.        , 0.        , 0.        , 0.01164935, 0.        ,\n",
       "       0.00529315, 0.        , 0.01461612, 0.0100822 , 0.80207499,\n",
       "       0.        , 0.00907398, 0.        , 0.        , 0.01080235,\n",
       "       0.04812545, 0.        , 0.        , 0.00731719, 0.        ,\n",
       "       0.        , 0.        , 0.        , 0.00864188, 0.01539983])"
      ]
     },
     "execution_count": 45,
     "metadata": {},
     "output_type": "execute_result"
    }
   ],
   "source": [
    "\n",
    "dt1.feature_importances_ # to show reduction of all input features"
   ]
  },
  {
   "cell_type": "code",
   "execution_count": 46,
   "metadata": {},
   "outputs": [
    {
     "data": {
      "text/plain": [
       "Index(['Time', 'V1', 'V2', 'V3', 'V4', 'V5', 'V6', 'V7', 'V8', 'V9', 'V10',\n",
       "       'V11', 'V12', 'V13', 'V14', 'V15', 'V16', 'V17', 'V18', 'V19', 'V20',\n",
       "       'V21', 'V22', 'V23', 'V24', 'V25', 'V26', 'V27', 'V28', 'Amount'],\n",
       "      dtype='object')"
      ]
     },
     "execution_count": 46,
     "metadata": {},
     "output_type": "execute_result"
    }
   ],
   "source": [
    "X.columns"
   ]
  },
  {
   "cell_type": "code",
   "execution_count": 47,
   "metadata": {},
   "outputs": [
    {
     "data": {
      "text/plain": [
       "(284807, 30)"
      ]
     },
     "execution_count": 47,
     "metadata": {},
     "output_type": "execute_result"
    }
   ],
   "source": [
    "#create object of RandomForestClassifier class\n",
    "rfc=RandomForestClassifier(n_estimators=75,max_features=5,random_state=1)#here n_estimators is a parameter\n",
    "#which show no. of decisiontree (how many decisiontree) and max_features means max imp input select\n",
    "X.shape"
   ]
  },
  {
   "cell_type": "code",
   "execution_count": 48,
   "metadata": {},
   "outputs": [
    {
     "name": "stdout",
     "output_type": "stream",
     "text": [
      "              precision    recall  f1-score   support\n",
      "\n",
      "           0       0.89      0.99      0.94       135\n",
      "           1       0.98      0.88      0.93       135\n",
      "\n",
      "    accuracy                           0.93       270\n",
      "   macro avg       0.94      0.93      0.93       270\n",
      "weighted avg       0.94      0.93      0.93       270\n",
      "\n",
      "Confusion Matrix : \n",
      "[[133   2]\n",
      " [ 16 119]]\n"
     ]
    },
    {
     "data": {
      "text/plain": [
       "RandomForestClassifier(max_features=5, n_estimators=75, random_state=1)"
      ]
     },
     "execution_count": 48,
     "metadata": {},
     "output_type": "execute_result"
    }
   ],
   "source": [
    "\n",
    "#call function\n",
    "create_model1(rfc)"
   ]
  },
  {
   "cell_type": "code",
   "execution_count": 49,
   "metadata": {},
   "outputs": [
    {
     "name": "stdout",
     "output_type": "stream",
     "text": [
      "              precision    recall  f1-score   support\n",
      "\n",
      "           0       0.90      0.96      0.93       135\n",
      "           1       0.96      0.90      0.93       135\n",
      "\n",
      "    accuracy                           0.93       270\n",
      "   macro avg       0.93      0.93      0.93       270\n",
      "weighted avg       0.93      0.93      0.93       270\n",
      "\n",
      "Confusion Matrix : \n",
      "[[130   5]\n",
      " [ 14 121]]\n"
     ]
    },
    {
     "data": {
      "text/plain": [
       "GradientBoostingClassifier()"
      ]
     },
     "execution_count": 49,
     "metadata": {},
     "output_type": "execute_result"
    }
   ],
   "source": [
    "#create the object of GradientBoostingClassifier class\n",
    "gbc=GradientBoostingClassifier(n_estimators=100) #no. of iterations <=100 use algo. decisiontreeclassifier\n",
    "\n",
    "create_model1(gbc)"
   ]
  },
  {
   "cell_type": "code",
   "execution_count": 50,
   "metadata": {},
   "outputs": [],
   "source": [
    "#create the object of XGBClassifier class\n",
    "xgb=XGBClassifier(n_estimators=100,reg_alpha=1) #reg_alpha=1 means automatic handle overfitting situation and\n",
    "#outlier "
   ]
  },
  {
   "cell_type": "code",
   "execution_count": 51,
   "metadata": {},
   "outputs": [
    {
     "name": "stdout",
     "output_type": "stream",
     "text": [
      "[18:46:13] WARNING: C:/Users/Administrator/workspace/xgboost-win64_release_1.3.0/src/learner.cc:1061: Starting in XGBoost 1.3.0, the default evaluation metric used with the objective 'binary:logistic' was changed from 'error' to 'logloss'. Explicitly set eval_metric if you'd like to restore the old behavior.\n",
      "              precision    recall  f1-score   support\n",
      "\n",
      "           0       0.91      0.99      0.95       135\n",
      "           1       0.98      0.90      0.94       135\n",
      "\n",
      "    accuracy                           0.94       270\n",
      "   macro avg       0.95      0.94      0.94       270\n",
      "weighted avg       0.95      0.94      0.94       270\n",
      "\n",
      "Confusion Matrix : \n",
      "[[133   2]\n",
      " [ 13 122]]\n"
     ]
    },
    {
     "data": {
      "text/plain": [
       "XGBClassifier(base_score=0.5, booster='gbtree', colsample_bylevel=1,\n",
       "              colsample_bynode=1, colsample_bytree=1, gamma=0, gpu_id=-1,\n",
       "              importance_type='gain', interaction_constraints='',\n",
       "              learning_rate=0.300000012, max_delta_step=0, max_depth=6,\n",
       "              min_child_weight=1, missing=nan, monotone_constraints='()',\n",
       "              n_estimators=100, n_jobs=4, num_parallel_tree=1, random_state=0,\n",
       "              reg_alpha=1, reg_lambda=1, scale_pos_weight=1, subsample=1,\n",
       "              tree_method='exact', validate_parameters=1, verbosity=None)"
      ]
     },
     "execution_count": 51,
     "metadata": {},
     "output_type": "execute_result"
    }
   ],
   "source": [
    "#call function\n",
    "create_model1(xgb)"
   ]
  },
  {
   "cell_type": "code",
   "execution_count": 52,
   "metadata": {},
   "outputs": [],
   "source": [
    "#Random Over Sampling : - we increase the minority class means creates the duplicate rows of yes class (minority)\n",
    "#class and equal to majority class means no class \n",
    "#If we are increasing the minority class that is known as over sampling .\n",
    "#call class inbuilt class RandomOverSampling : - define in imblearn package \n",
    "\n",
    "from imblearn.over_sampling import RandomOverSampler"
   ]
  },
  {
   "cell_type": "code",
   "execution_count": 53,
   "metadata": {},
   "outputs": [],
   "source": [
    "#create object of  RandomOverSampler() class\n",
    "ros = RandomOverSampler()"
   ]
  },
  {
   "cell_type": "code",
   "execution_count": 54,
   "metadata": {},
   "outputs": [],
   "source": [
    "#fit_sample() inbuilt function which define RandomOverSampler class and pass training data\n",
    "#we have X_train and Y_train (70%)\n",
    "X_sample_train1,Y_sample_train1 = ros.fit_resample(X_train,Y_train) "
   ]
  },
  {
   "cell_type": "code",
   "execution_count": 55,
   "metadata": {},
   "outputs": [
    {
     "data": {
      "text/plain": [
       "1    199007\n",
       "0    199007\n",
       "Name: Class, dtype: int64"
      ]
     },
     "execution_count": 55,
     "metadata": {},
     "output_type": "execute_result"
    }
   ],
   "source": [
    "#check \n",
    "pd.Series(Y_sample_train1).value_counts()"
   ]
  },
  {
   "cell_type": "code",
   "execution_count": 56,
   "metadata": {},
   "outputs": [
    {
     "data": {
      "text/plain": [
       "0    85308\n",
       "1      135\n",
       "Name: Class, dtype: int64"
      ]
     },
     "execution_count": 56,
     "metadata": {},
     "output_type": "execute_result"
    }
   ],
   "source": [
    "#Testing data 30% \n",
    "pd.Series(Y_test).value_counts() #this is unbalance "
   ]
  },
  {
   "cell_type": "code",
   "execution_count": 57,
   "metadata": {},
   "outputs": [],
   "source": [
    "#fit_sample() inbuilt function which define RandomUnderSampler class and pass testing data\n",
    "#we have X_test and Y_test (70%)\n",
    "X_sample_test1,Y_sample_test1 = ros.fit_resample(X_test,Y_test) "
   ]
  },
  {
   "cell_type": "code",
   "execution_count": 58,
   "metadata": {},
   "outputs": [
    {
     "data": {
      "text/plain": [
       "1    85308\n",
       "0    85308\n",
       "Name: Class, dtype: int64"
      ]
     },
     "execution_count": 58,
     "metadata": {},
     "output_type": "execute_result"
    }
   ],
   "source": [
    "#Testing data 30% \n",
    "pd.Series(Y_sample_test1).value_counts() "
   ]
  },
  {
   "cell_type": "code",
   "execution_count": 59,
   "metadata": {},
   "outputs": [],
   "source": [
    "#user defined function create\n",
    "def create_model2(model):\n",
    "    model.fit(X_sample_train1,Y_sample_train1)#we train the model\n",
    "    y_pred=model.predict(X_sample_test1) #test\n",
    "    print(classification_report(Y_sample_test1,y_pred))\n",
    "    print(\"Confusion Matrix : \")\n",
    "    print(confusion_matrix(Y_sample_test1,y_pred))\n",
    "    return model"
   ]
  },
  {
   "cell_type": "code",
   "execution_count": 60,
   "metadata": {},
   "outputs": [],
   "source": [
    "#we train the model with the help og Logistic regression after apply randomOverrsampler\n",
    "#we create the object of Logistic Regression class\n",
    "#Use base line model of classification algorithm : Logistic Regression\n",
    "lr1=LogisticRegression()"
   ]
  },
  {
   "cell_type": "code",
   "execution_count": 61,
   "metadata": {},
   "outputs": [
    {
     "name": "stdout",
     "output_type": "stream",
     "text": [
      "              precision    recall  f1-score   support\n",
      "\n",
      "           0       0.86      0.96      0.91     85308\n",
      "           1       0.96      0.84      0.90     85308\n",
      "\n",
      "    accuracy                           0.90    170616\n",
      "   macro avg       0.91      0.90      0.90    170616\n",
      "weighted avg       0.91      0.90      0.90    170616\n",
      "\n",
      "Confusion Matrix : \n",
      "[[81999  3309]\n",
      " [13379 71929]]\n"
     ]
    },
    {
     "data": {
      "text/plain": [
       "LogisticRegression()"
      ]
     },
     "execution_count": 61,
     "metadata": {},
     "output_type": "execute_result"
    }
   ],
   "source": [
    "#call function\n",
    "create_model2(lr1)"
   ]
  },
  {
   "cell_type": "code",
   "execution_count": 62,
   "metadata": {},
   "outputs": [
    {
     "name": "stdout",
     "output_type": "stream",
     "text": [
      "              precision    recall  f1-score   support\n",
      "\n",
      "           0       0.75      1.00      0.86     85308\n",
      "           1       1.00      0.67      0.80     85308\n",
      "\n",
      "    accuracy                           0.84    170616\n",
      "   macro avg       0.88      0.84      0.83    170616\n",
      "weighted avg       0.88      0.84      0.83    170616\n",
      "\n",
      "Confusion Matrix : \n",
      "[[85270    38]\n",
      " [27983 57325]]\n"
     ]
    },
    {
     "data": {
      "text/plain": [
       "DecisionTreeClassifier()"
      ]
     },
     "execution_count": 62,
     "metadata": {},
     "output_type": "execute_result"
    }
   ],
   "source": [
    "#create the object of DecisionTreeClassifier class\n",
    "dt2=DecisionTreeClassifier() #by default gini index method to select imp features\n",
    "#call function\n",
    "create_model2(dt2)"
   ]
  },
  {
   "cell_type": "code",
   "execution_count": 63,
   "metadata": {},
   "outputs": [
    {
     "name": "stdout",
     "output_type": "stream",
     "text": [
      "              precision    recall  f1-score   support\n",
      "\n",
      "           0       0.85      0.99      0.92     85308\n",
      "           1       0.99      0.83      0.90     85308\n",
      "\n",
      "    accuracy                           0.91    170616\n",
      "   macro avg       0.92      0.91      0.91    170616\n",
      "weighted avg       0.92      0.91      0.91    170616\n",
      "\n",
      "Confusion Matrix : \n",
      "[[84721   587]\n",
      " [14557 70751]]\n"
     ]
    },
    {
     "data": {
      "text/plain": [
       "DecisionTreeClassifier(max_depth=5)"
      ]
     },
     "execution_count": 63,
     "metadata": {},
     "output_type": "execute_result"
    }
   ],
   "source": [
    "#create the object of DecisionTreeClassifier class\n",
    "dt3=DecisionTreeClassifier(max_depth=5) #by default gini index method to select imp features\n",
    "#call function\n",
    "create_model2(dt3)"
   ]
  },
  {
   "cell_type": "code",
   "execution_count": 64,
   "metadata": {},
   "outputs": [],
   "source": [
    "from sklearn.ensemble import AdaBoostClassifier"
   ]
  },
  {
   "cell_type": "code",
   "execution_count": 65,
   "metadata": {},
   "outputs": [],
   "source": [
    "#create the object of AdaBoostClassifier \n",
    "ada=AdaBoostClassifier(n_estimators=10) #n_estimators=100 : this is parameter (it is used for iteration)\n",
    "#we define 100 , can be <=100 ,adaboost creates a decisionstump(decisiontree)"
   ]
  },
  {
   "cell_type": "code",
   "execution_count": 66,
   "metadata": {},
   "outputs": [
    {
     "name": "stdout",
     "output_type": "stream",
     "text": [
      "              precision    recall  f1-score   support\n",
      "\n",
      "           0       0.91      0.96      0.93     85308\n",
      "           1       0.96      0.90      0.93     85308\n",
      "\n",
      "    accuracy                           0.93    170616\n",
      "   macro avg       0.93      0.93      0.93    170616\n",
      "weighted avg       0.93      0.93      0.93    170616\n",
      "\n",
      "Confusion Matrix : \n",
      "[[81925  3383]\n",
      " [ 8275 77033]]\n"
     ]
    },
    {
     "data": {
      "text/plain": [
       "AdaBoostClassifier(n_estimators=10)"
      ]
     },
     "execution_count": 66,
     "metadata": {},
     "output_type": "execute_result"
    }
   ],
   "source": [
    "#call function\n",
    "create_model2(ada)"
   ]
  },
  {
   "cell_type": "code",
   "execution_count": 67,
   "metadata": {},
   "outputs": [],
   "source": [
    "#create the object of GradientBoostingClassifier class\n",
    "gbc1=GradientBoostingClassifier(n_estimators=30) #no. of iterations <=100 use algo. decisiontreeclassifier"
   ]
  },
  {
   "cell_type": "code",
   "execution_count": 68,
   "metadata": {},
   "outputs": [
    {
     "name": "stdout",
     "output_type": "stream",
     "text": [
      "              precision    recall  f1-score   support\n",
      "\n",
      "           0       0.88      0.99      0.93     85308\n",
      "           1       0.99      0.87      0.92     85308\n",
      "\n",
      "    accuracy                           0.93    170616\n",
      "   macro avg       0.93      0.93      0.93    170616\n",
      "weighted avg       0.93      0.93      0.93    170616\n",
      "\n",
      "Confusion Matrix : \n",
      "[[84441   867]\n",
      " [11429 73879]]\n"
     ]
    },
    {
     "data": {
      "text/plain": [
       "GradientBoostingClassifier(n_estimators=30)"
      ]
     },
     "execution_count": 68,
     "metadata": {},
     "output_type": "execute_result"
    }
   ],
   "source": [
    "#call function\n",
    "create_model2(gbc1)"
   ]
  },
  {
   "cell_type": "code",
   "execution_count": 69,
   "metadata": {},
   "outputs": [
    {
     "name": "stdout",
     "output_type": "stream",
     "text": [
      "[18:52:55] WARNING: C:/Users/Administrator/workspace/xgboost-win64_release_1.3.0/src/learner.cc:1061: Starting in XGBoost 1.3.0, the default evaluation metric used with the objective 'binary:logistic' was changed from 'error' to 'logloss'. Explicitly set eval_metric if you'd like to restore the old behavior.\n",
      "              precision    recall  f1-score   support\n",
      "\n",
      "           0       0.84      1.00      0.91     85308\n",
      "           1       1.00      0.81      0.89     85308\n",
      "\n",
      "    accuracy                           0.90    170616\n",
      "   macro avg       0.92      0.90      0.90    170616\n",
      "weighted avg       0.92      0.90      0.90    170616\n",
      "\n",
      "Confusion Matrix : \n",
      "[[85251    57]\n",
      " [16513 68795]]\n"
     ]
    },
    {
     "data": {
      "text/plain": [
       "XGBClassifier(base_score=0.5, booster='gbtree', colsample_bylevel=1,\n",
       "              colsample_bynode=1, colsample_bytree=1, gamma=0, gpu_id=-1,\n",
       "              importance_type='gain', interaction_constraints='',\n",
       "              learning_rate=0.300000012, max_delta_step=0, max_depth=6,\n",
       "              min_child_weight=1, missing=nan, monotone_constraints='()',\n",
       "              n_estimators=25, n_jobs=4, num_parallel_tree=1, random_state=0,\n",
       "              reg_alpha=1, reg_lambda=1, scale_pos_weight=1, subsample=1,\n",
       "              tree_method='exact', validate_parameters=1, verbosity=None)"
      ]
     },
     "execution_count": 69,
     "metadata": {},
     "output_type": "execute_result"
    }
   ],
   "source": [
    "#create the object of XGBClassifier class\n",
    "xgb1=XGBClassifier(n_estimators=25,reg_alpha=1) #reg_alpha=1 means automatic handle overfitting situation and\n",
    "#outlier \n",
    "\n",
    "#call function\n",
    "create_model2(xgb1)"
   ]
  },
  {
   "cell_type": "code",
   "execution_count": 70,
   "metadata": {},
   "outputs": [],
   "source": [
    "\n",
    "#use SVM : support vector machine : - classification algorithm\n",
    "#1. Linear kernel function of SVM : means suppose data are linearly separatable with the help of \n",
    "#straight line \n",
    "#call class LinearSVC inbuilt class\n",
    "from sklearn.svm import LinearSVC"
   ]
  },
  {
   "cell_type": "code",
   "execution_count": 71,
   "metadata": {},
   "outputs": [
    {
     "name": "stdout",
     "output_type": "stream",
     "text": [
      "              precision    recall  f1-score   support\n",
      "\n",
      "           0       1.00      1.00      1.00     85308\n",
      "           1       0.70      0.14      0.23       135\n",
      "\n",
      "    accuracy                           1.00     85443\n",
      "   macro avg       0.85      0.57      0.62     85443\n",
      "weighted avg       1.00      1.00      1.00     85443\n",
      "\n",
      "Confusion_matrix:\n",
      "[[85300     8]\n",
      " [  116    19]]\n"
     ]
    },
    {
     "data": {
      "text/plain": [
       "LinearSVC(random_state=1)"
      ]
     },
     "execution_count": 71,
     "metadata": {},
     "output_type": "execute_result"
    }
   ],
   "source": [
    "#create the object of LinearSVC class\n",
    "svc=LinearSVC(random_state=1) #hard marging\n",
    "#call fun\n",
    "create_model(svc)"
   ]
  },
  {
   "cell_type": "code",
   "execution_count": 72,
   "metadata": {},
   "outputs": [
    {
     "name": "stdout",
     "output_type": "stream",
     "text": [
      "              precision    recall  f1-score   support\n",
      "\n",
      "           0       1.00      0.05      0.10       135\n",
      "           1       0.51      1.00      0.68       135\n",
      "\n",
      "    accuracy                           0.53       270\n",
      "   macro avg       0.76      0.53      0.39       270\n",
      "weighted avg       0.76      0.53      0.39       270\n",
      "\n",
      "Confusion Matrix : \n",
      "[[  7 128]\n",
      " [  0 135]]\n"
     ]
    },
    {
     "data": {
      "text/plain": [
       "LinearSVC(random_state=1)"
      ]
     },
     "execution_count": 72,
     "metadata": {},
     "output_type": "execute_result"
    }
   ],
   "source": [
    "#call fun\n",
    "create_model1(svc)"
   ]
  },
  {
   "cell_type": "code",
   "execution_count": 73,
   "metadata": {},
   "outputs": [
    {
     "name": "stdout",
     "output_type": "stream",
     "text": [
      "              precision    recall  f1-score   support\n",
      "\n",
      "           0       0.80      0.99      0.88     85308\n",
      "           1       0.99      0.75      0.85     85308\n",
      "\n",
      "    accuracy                           0.87    170616\n",
      "   macro avg       0.89      0.87      0.87    170616\n",
      "weighted avg       0.89      0.87      0.87    170616\n",
      "\n",
      "Confusion Matrix : \n",
      "[[84614   694]\n",
      " [21410 63898]]\n"
     ]
    },
    {
     "data": {
      "text/plain": [
       "LinearSVC(random_state=1)"
      ]
     },
     "execution_count": 73,
     "metadata": {},
     "output_type": "execute_result"
    }
   ],
   "source": [
    "#call fun\n",
    "create_model2(svc)"
   ]
  },
  {
   "cell_type": "code",
   "execution_count": 74,
   "metadata": {},
   "outputs": [],
   "source": [
    "#Soft margin means to reduced overfitting situation means some error add on\n",
    "#training time \n",
    "#create object of LinearSVC class\n",
    "svc1=LinearSVC(random_state=1,C=0.3)#here C is parameter which is used to\n",
    "#add some error on training time"
   ]
  },
  {
   "cell_type": "code",
   "execution_count": 75,
   "metadata": {},
   "outputs": [
    {
     "name": "stdout",
     "output_type": "stream",
     "text": [
      "              precision    recall  f1-score   support\n",
      "\n",
      "           0       1.00      1.00      1.00     85308\n",
      "           1       0.71      0.16      0.27       135\n",
      "\n",
      "    accuracy                           1.00     85443\n",
      "   macro avg       0.85      0.58      0.63     85443\n",
      "weighted avg       1.00      1.00      1.00     85443\n",
      "\n",
      "Confusion_matrix:\n",
      "[[85299     9]\n",
      " [  113    22]]\n"
     ]
    },
    {
     "data": {
      "text/plain": [
       "LinearSVC(C=0.3, random_state=1)"
      ]
     },
     "execution_count": 75,
     "metadata": {},
     "output_type": "execute_result"
    }
   ],
   "source": [
    "#call fun\n",
    "#training model without balancing dataset\n",
    "create_model(svc1)"
   ]
  },
  {
   "cell_type": "code",
   "execution_count": 76,
   "metadata": {},
   "outputs": [
    {
     "name": "stdout",
     "output_type": "stream",
     "text": [
      "              precision    recall  f1-score   support\n",
      "\n",
      "           0       1.00      0.05      0.10       135\n",
      "           1       0.51      1.00      0.68       135\n",
      "\n",
      "    accuracy                           0.53       270\n",
      "   macro avg       0.76      0.53      0.39       270\n",
      "weighted avg       0.76      0.53      0.39       270\n",
      "\n",
      "Confusion Matrix : \n",
      "[[  7 128]\n",
      " [  0 135]]\n"
     ]
    },
    {
     "data": {
      "text/plain": [
       "LinearSVC(C=0.3, random_state=1)"
      ]
     },
     "execution_count": 76,
     "metadata": {},
     "output_type": "execute_result"
    }
   ],
   "source": [
    "#call fun\n",
    "#training model by applying  randomundersampling\n",
    "\n",
    "create_model1(svc1)"
   ]
  },
  {
   "cell_type": "code",
   "execution_count": 77,
   "metadata": {},
   "outputs": [
    {
     "name": "stdout",
     "output_type": "stream",
     "text": [
      "              precision    recall  f1-score   support\n",
      "\n",
      "           0       0.97      0.22      0.35     85308\n",
      "           1       0.56      0.99      0.72     85308\n",
      "\n",
      "    accuracy                           0.60    170616\n",
      "   macro avg       0.76      0.60      0.53    170616\n",
      "weighted avg       0.76      0.60      0.53    170616\n",
      "\n",
      "Confusion Matrix : \n",
      "[[18464 66844]\n",
      " [  624 84684]]\n"
     ]
    },
    {
     "data": {
      "text/plain": [
       "LinearSVC(C=0.3, random_state=1)"
      ]
     },
     "execution_count": 77,
     "metadata": {},
     "output_type": "execute_result"
    }
   ],
   "source": [
    "#call fun\n",
    "#training model by applying  randomoversampling\n",
    "\n",
    "create_model2(svc1)"
   ]
  },
  {
   "cell_type": "code",
   "execution_count": 78,
   "metadata": {},
   "outputs": [],
   "source": [
    "#2. polynomial Kernel function \n",
    "from sklearn.svm import SVC \n",
    "#SVC inbuilt class for non-linear data"
   ]
  },
  {
   "cell_type": "code",
   "execution_count": 79,
   "metadata": {},
   "outputs": [],
   "source": [
    "#create object of SVC class(for polynomial)\n",
    "poly_svc=SVC(random_state=1,kernel=\"poly\")"
   ]
  },
  {
   "cell_type": "code",
   "execution_count": 80,
   "metadata": {},
   "outputs": [
    {
     "name": "stdout",
     "output_type": "stream",
     "text": [
      "              precision    recall  f1-score   support\n",
      "\n",
      "           0       1.00      1.00      1.00     85308\n",
      "           1       0.00      0.00      0.00       135\n",
      "\n",
      "    accuracy                           1.00     85443\n",
      "   macro avg       0.50      0.50      0.50     85443\n",
      "weighted avg       1.00      1.00      1.00     85443\n",
      "\n",
      "Confusion_matrix:\n",
      "[[85308     0]\n",
      " [  135     0]]\n"
     ]
    },
    {
     "data": {
      "text/plain": [
       "SVC(kernel='poly', random_state=1)"
      ]
     },
     "execution_count": 80,
     "metadata": {},
     "output_type": "execute_result"
    }
   ],
   "source": [
    "#call function\n",
    "#training model without balancing dataset\n",
    "create_model(poly_svc)"
   ]
  },
  {
   "cell_type": "code",
   "execution_count": 81,
   "metadata": {},
   "outputs": [
    {
     "name": "stdout",
     "output_type": "stream",
     "text": [
      "              precision    recall  f1-score   support\n",
      "\n",
      "           0       0.53      0.30      0.39       135\n",
      "           1       0.51      0.73      0.60       135\n",
      "\n",
      "    accuracy                           0.52       270\n",
      "   macro avg       0.52      0.52      0.50       270\n",
      "weighted avg       0.52      0.52      0.50       270\n",
      "\n",
      "Confusion Matrix : \n",
      "[[41 94]\n",
      " [36 99]]\n"
     ]
    },
    {
     "data": {
      "text/plain": [
       "SVC(kernel='poly', random_state=1)"
      ]
     },
     "execution_count": 81,
     "metadata": {},
     "output_type": "execute_result"
    }
   ],
   "source": [
    "#call function\n",
    "#training model by applying  randomundersampling\n",
    "\n",
    "create_model1(poly_svc)"
   ]
  },
  {
   "cell_type": "code",
   "execution_count": null,
   "metadata": {},
   "outputs": [],
   "source": []
  }
 ],
 "metadata": {
  "kernelspec": {
   "display_name": "Python 3",
   "language": "python",
   "name": "python3"
  },
  "language_info": {
   "codemirror_mode": {
    "name": "ipython",
    "version": 3
   },
   "file_extension": ".py",
   "mimetype": "text/x-python",
   "name": "python",
   "nbconvert_exporter": "python",
   "pygments_lexer": "ipython3",
   "version": "3.7.4"
  }
 },
 "nbformat": 4,
 "nbformat_minor": 2
}
